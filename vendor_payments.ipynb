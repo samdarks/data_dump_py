{
 "cells": [
  {
   "cell_type": "code",
   "execution_count": 13,
   "metadata": {},
   "outputs": [],
   "source": [
    "import pandas as pd\n",
    "import numpy as np\n",
    "import os\n",
    "import openpyxl\n",
    "import psycopg2"
   ]
  },
  {
   "cell_type": "code",
   "execution_count": 14,
   "metadata": {},
   "outputs": [
    {
     "data": {
      "text/html": [
       "<div>\n",
       "<style scoped>\n",
       "    .dataframe tbody tr th:only-of-type {\n",
       "        vertical-align: middle;\n",
       "    }\n",
       "\n",
       "    .dataframe tbody tr th {\n",
       "        vertical-align: top;\n",
       "    }\n",
       "\n",
       "    .dataframe thead th {\n",
       "        text-align: right;\n",
       "    }\n",
       "</style>\n",
       "<table border=\"1\" class=\"dataframe\">\n",
       "  <thead>\n",
       "    <tr style=\"text-align: right;\">\n",
       "      <th></th>\n",
       "      <th>payment_id</th>\n",
       "      <th>payment_number</th>\n",
       "      <th>bill_numbers</th>\n",
       "      <th>vendor_id</th>\n",
       "      <th>vendor_name</th>\n",
       "      <th>payment_mode</th>\n",
       "      <th>description</th>\n",
       "      <th>date</th>\n",
       "      <th>reference_number</th>\n",
       "      <th>amount</th>\n",
       "      <th>...</th>\n",
       "      <th>is_paid_via_print_check</th>\n",
       "      <th>paid_through_account_name</th>\n",
       "      <th>check_id</th>\n",
       "      <th>check_number</th>\n",
       "      <th>check_status</th>\n",
       "      <th>offset_account_name</th>\n",
       "      <th>payment_type</th>\n",
       "      <th>currency_code</th>\n",
       "      <th>exchange_rate</th>\n",
       "      <th>branch_name</th>\n",
       "    </tr>\n",
       "  </thead>\n",
       "  <tbody>\n",
       "    <tr>\n",
       "      <th>0</th>\n",
       "      <td>2620362000001382181</td>\n",
       "      <td>1875</td>\n",
       "      <td>KTZ10021</td>\n",
       "      <td>2620362000000669931</td>\n",
       "      <td>One Stop Logistics</td>\n",
       "      <td>Cash</td>\n",
       "      <td>NaN</td>\n",
       "      <td>2021-01-05</td>\n",
       "      <td>NaN</td>\n",
       "      <td>2500.0</td>\n",
       "      <td>...</td>\n",
       "      <td>False</td>\n",
       "      <td>Bank of America Transactions</td>\n",
       "      <td>NaN</td>\n",
       "      <td>NaN</td>\n",
       "      <td>NaN</td>\n",
       "      <td>Accounts Payable</td>\n",
       "      <td>bill_payment</td>\n",
       "      <td>USD</td>\n",
       "      <td>5.868200</td>\n",
       "      <td>Jetstream Africa</td>\n",
       "    </tr>\n",
       "    <tr>\n",
       "      <th>1</th>\n",
       "      <td>2620362000001382207</td>\n",
       "      <td>1876</td>\n",
       "      <td>18 December</td>\n",
       "      <td>2620362000000669967</td>\n",
       "      <td>Mohammed Tofic</td>\n",
       "      <td>Cash</td>\n",
       "      <td>NaN</td>\n",
       "      <td>2021-01-05</td>\n",
       "      <td>NaN</td>\n",
       "      <td>1000.0</td>\n",
       "      <td>...</td>\n",
       "      <td>False</td>\n",
       "      <td>MTN Mobile Money</td>\n",
       "      <td>NaN</td>\n",
       "      <td>NaN</td>\n",
       "      <td>NaN</td>\n",
       "      <td>Prepaid Expenses</td>\n",
       "      <td>bill_payment</td>\n",
       "      <td>GHS</td>\n",
       "      <td>1.000000</td>\n",
       "      <td>Jetstream Africa</td>\n",
       "    </tr>\n",
       "    <tr>\n",
       "      <th>2</th>\n",
       "      <td>2620362000001382239</td>\n",
       "      <td>1877</td>\n",
       "      <td>AA-0105</td>\n",
       "      <td>2620362000000669993</td>\n",
       "      <td>Baba Packaging</td>\n",
       "      <td>Cash</td>\n",
       "      <td>NaN</td>\n",
       "      <td>2021-01-05</td>\n",
       "      <td>NaN</td>\n",
       "      <td>720.0</td>\n",
       "      <td>...</td>\n",
       "      <td>False</td>\n",
       "      <td>MTN Mobile Money</td>\n",
       "      <td>NaN</td>\n",
       "      <td>NaN</td>\n",
       "      <td>NaN</td>\n",
       "      <td>Accounts Payable</td>\n",
       "      <td>bill_payment</td>\n",
       "      <td>GHS</td>\n",
       "      <td>1.000000</td>\n",
       "      <td>Jetstream Africa</td>\n",
       "    </tr>\n",
       "    <tr>\n",
       "      <th>3</th>\n",
       "      <td>2620362000001382261</td>\n",
       "      <td>1878</td>\n",
       "      <td>CNT# BEAU4725271</td>\n",
       "      <td>2620362000000670019</td>\n",
       "      <td>Michael Quartey Transport Service</td>\n",
       "      <td>Cash</td>\n",
       "      <td>NaN</td>\n",
       "      <td>2021-01-05</td>\n",
       "      <td>NaN</td>\n",
       "      <td>2600.0</td>\n",
       "      <td>...</td>\n",
       "      <td>False</td>\n",
       "      <td>MTN Mobile Money</td>\n",
       "      <td>NaN</td>\n",
       "      <td>NaN</td>\n",
       "      <td>NaN</td>\n",
       "      <td>Accounts Payable</td>\n",
       "      <td>bill_payment</td>\n",
       "      <td>GHS</td>\n",
       "      <td>1.000000</td>\n",
       "      <td>Jetstream Africa</td>\n",
       "    </tr>\n",
       "    <tr>\n",
       "      <th>4</th>\n",
       "      <td>2620362000001382283</td>\n",
       "      <td>1879</td>\n",
       "      <td>2119153389</td>\n",
       "      <td>2620362000000670055</td>\n",
       "      <td>Hapag Lloyd USD</td>\n",
       "      <td>Cash</td>\n",
       "      <td>NaN</td>\n",
       "      <td>2021-01-06</td>\n",
       "      <td>NaN</td>\n",
       "      <td>657.0</td>\n",
       "      <td>...</td>\n",
       "      <td>False</td>\n",
       "      <td>Bank of America Transactions</td>\n",
       "      <td>NaN</td>\n",
       "      <td>NaN</td>\n",
       "      <td>NaN</td>\n",
       "      <td>Accounts Payable</td>\n",
       "      <td>bill_payment</td>\n",
       "      <td>USD</td>\n",
       "      <td>5.863521</td>\n",
       "      <td>Jetstream Africa</td>\n",
       "    </tr>\n",
       "  </tbody>\n",
       "</table>\n",
       "<p>5 rows × 25 columns</p>\n",
       "</div>"
      ],
      "text/plain": [
       "            payment_id  payment_number      bill_numbers            vendor_id  \\\n",
       "0  2620362000001382181            1875          KTZ10021  2620362000000669931   \n",
       "1  2620362000001382207            1876       18 December  2620362000000669967   \n",
       "2  2620362000001382239            1877           AA-0105  2620362000000669993   \n",
       "3  2620362000001382261            1878  CNT# BEAU4725271  2620362000000670019   \n",
       "4  2620362000001382283            1879        2119153389  2620362000000670055   \n",
       "\n",
       "                         vendor_name payment_mode description        date  \\\n",
       "0                 One Stop Logistics         Cash         NaN  2021-01-05   \n",
       "1                     Mohammed Tofic         Cash         NaN  2021-01-05   \n",
       "2                     Baba Packaging         Cash         NaN  2021-01-05   \n",
       "3  Michael Quartey Transport Service         Cash         NaN  2021-01-05   \n",
       "4                    Hapag Lloyd USD         Cash         NaN  2021-01-06   \n",
       "\n",
       "  reference_number  amount  ...  is_paid_via_print_check  \\\n",
       "0              NaN  2500.0  ...                    False   \n",
       "1              NaN  1000.0  ...                    False   \n",
       "2              NaN   720.0  ...                    False   \n",
       "3              NaN  2600.0  ...                    False   \n",
       "4              NaN   657.0  ...                    False   \n",
       "\n",
       "      paid_through_account_name  check_id  check_number  check_status  \\\n",
       "0  Bank of America Transactions       NaN           NaN           NaN   \n",
       "1              MTN Mobile Money       NaN           NaN           NaN   \n",
       "2              MTN Mobile Money       NaN           NaN           NaN   \n",
       "3              MTN Mobile Money       NaN           NaN           NaN   \n",
       "4  Bank of America Transactions       NaN           NaN           NaN   \n",
       "\n",
       "   offset_account_name  payment_type  currency_code  exchange_rate  \\\n",
       "0     Accounts Payable  bill_payment            USD       5.868200   \n",
       "1     Prepaid Expenses  bill_payment            GHS       1.000000   \n",
       "2     Accounts Payable  bill_payment            GHS       1.000000   \n",
       "3     Accounts Payable  bill_payment            GHS       1.000000   \n",
       "4     Accounts Payable  bill_payment            USD       5.863521   \n",
       "\n",
       "        branch_name  \n",
       "0  Jetstream Africa  \n",
       "1  Jetstream Africa  \n",
       "2  Jetstream Africa  \n",
       "3  Jetstream Africa  \n",
       "4  Jetstream Africa  \n",
       "\n",
       "[5 rows x 25 columns]"
      ]
     },
     "execution_count": 14,
     "metadata": {},
     "output_type": "execute_result"
    }
   ],
   "source": [
    "df = pd.read_excel(\"vendor_payments.xlsx\")\n",
    "df.head()"
   ]
  },
  {
   "cell_type": "code",
   "execution_count": 15,
   "metadata": {},
   "outputs": [
    {
     "data": {
      "text/plain": [
       "Index(['payment_id', 'payment_number', 'bill_numbers', 'vendor_id',\n",
       "       'vendor_name', 'payment_mode', 'description', 'date',\n",
       "       'reference_number', 'amount', 'bcy_amount', 'bcy_bank_charge',\n",
       "       'unused_amount', 'bcy_unused_amount', 'paid_through_account_id',\n",
       "       'is_paid_via_print_check', 'paid_through_account_name', 'check_id',\n",
       "       'check_number', 'check_status', 'offset_account_name', 'payment_type',\n",
       "       'currency_code', 'exchange_rate', 'branch_name'],\n",
       "      dtype='object')"
      ]
     },
     "execution_count": 15,
     "metadata": {},
     "output_type": "execute_result"
    }
   ],
   "source": [
    "df.columns = [x.lower().replace(\" \",\"_\").replace(\"%\",\"\") for x in df.columns]\n",
    "df.columns"
   ]
  },
  {
   "cell_type": "code",
   "execution_count": 16,
   "metadata": {},
   "outputs": [
    {
     "data": {
      "text/plain": [
       "payment_id                     int64\n",
       "payment_number                 int64\n",
       "bill_numbers                  object\n",
       "vendor_id                      int64\n",
       "vendor_name                   object\n",
       "payment_mode                  object\n",
       "description                   object\n",
       "date                          object\n",
       "reference_number              object\n",
       "amount                       float64\n",
       "bcy_amount                   float64\n",
       "bcy_bank_charge                int64\n",
       "unused_amount                float64\n",
       "bcy_unused_amount            float64\n",
       "paid_through_account_id        int64\n",
       "is_paid_via_print_check         bool\n",
       "paid_through_account_name     object\n",
       "check_id                     float64\n",
       "check_number                 float64\n",
       "check_status                 float64\n",
       "offset_account_name           object\n",
       "payment_type                  object\n",
       "currency_code                 object\n",
       "exchange_rate                float64\n",
       "branch_name                   object\n",
       "dtype: object"
      ]
     },
     "execution_count": 16,
     "metadata": {},
     "output_type": "execute_result"
    }
   ],
   "source": [
    "df.dtypes"
   ]
  },
  {
   "cell_type": "code",
   "execution_count": 17,
   "metadata": {},
   "outputs": [
    {
     "data": {
      "text/plain": [
       "{'object': 'varchar',\n",
       " 'float64': 'float',\n",
       " 'int64': 'varchar',\n",
       " 'datetime64[ns]': 'varchar',\n",
       " 'datetime64': 'timestamp',\n",
       " 'bool': 'varchar'}"
      ]
     },
     "execution_count": 17,
     "metadata": {},
     "output_type": "execute_result"
    }
   ],
   "source": [
    "replacements = {\n",
    "    'object' : 'varchar',\n",
    "    'float64' : 'float',\n",
    "    'int64' : 'varchar',\n",
    "    'datetime64[ns]': 'varchar',\n",
    "    'datetime64': 'timestamp',\n",
    "    'bool' : 'varchar'\n",
    "}\n",
    "replacements"
   ]
  },
  {
   "cell_type": "code",
   "execution_count": 18,
   "metadata": {},
   "outputs": [
    {
     "data": {
      "text/plain": [
       "'payment_id varchar, payment_number varchar, bill_numbers varchar, vendor_id varchar, vendor_name varchar, payment_mode varchar, description varchar, date varchar, reference_number varchar, amount float, bcy_amount float, bcy_bank_charge varchar, unused_amount float, bcy_unused_amount float, paid_through_account_id varchar, is_paid_via_print_check varchar, paid_through_account_name varchar, check_id float, check_number float, check_status float, offset_account_name varchar, payment_type varchar, currency_code varchar, exchange_rate float, branch_name varchar'"
      ]
     },
     "execution_count": 18,
     "metadata": {},
     "output_type": "execute_result"
    }
   ],
   "source": [
    "col_str = \", \".join(\"{} {}\".format(n, d) for (n, d) in zip(df.columns, df.dtypes.replace(replacements)))\n",
    "col_str"
   ]
  },
  {
   "cell_type": "code",
   "execution_count": 19,
   "metadata": {},
   "outputs": [
    {
     "name": "stdout",
     "output_type": "stream",
     "text": [
      "opened database successfully\n"
     ]
    }
   ],
   "source": [
    "conn_string = \"host= db.app.production.jetstreamafrica.com \\\n",
    "                dbname='jetstream-finance' \\\n",
    "                    user='ujetstreamfinance' password='Smehr5A7FGw4jEX@' \"\n",
    "\n",
    "conn = psycopg2.connect(conn_string)\n",
    "cursor = conn.cursor()\n",
    "\n",
    "print('opened database successfully')"
   ]
  },
  {
   "cell_type": "code",
   "execution_count": 20,
   "metadata": {},
   "outputs": [],
   "source": [
    "cursor.execute(\"drop table if exists vendor_payments;\")"
   ]
  },
  {
   "cell_type": "code",
   "execution_count": 21,
   "metadata": {},
   "outputs": [],
   "source": [
    "cursor.execute(\"create table vendor_payments \\\n",
    "    (payment_id varchar, payment_number varchar, bill_numbers varchar, vendor_id varchar, vendor_name varchar, payment_mode varchar, description varchar, date date, reference_number varchar, amount float, bcy_amount float, bcy_bank_charge varchar, unused_amount float, bcy_unused_amount float, paid_through_account_id varchar, is_paid_via_print_check varchar, paid_through_account_name varchar, check_id float, check_number float, check_status float, offset_account_name varchar, payment_type varchar, currency_code varchar, exchange_rate float, branch_name varchar)\")"
   ]
  },
  {
   "cell_type": "code",
   "execution_count": 22,
   "metadata": {},
   "outputs": [
    {
     "name": "stdout",
     "output_type": "stream",
     "text": [
      "file opened in memory\n"
     ]
    }
   ],
   "source": [
    "#insert values to tables\n",
    "#save df to csv\n",
    "df.to_csv('vendor_payments', header=df.columns, index=False, encoding='utf-8')\n",
    "#open the csv file, save it as an object and upload to db\n",
    "my_file = open(\"vendor_payments\")\n",
    "print('file opened in memory')"
   ]
  },
  {
   "cell_type": "code",
   "execution_count": 23,
   "metadata": {},
   "outputs": [
    {
     "name": "stdout",
     "output_type": "stream",
     "text": [
      "file copied to db\n"
     ]
    }
   ],
   "source": [
    "SQL_STATEMENT = \"\"\"\n",
    "COPY vendor_payments FROM STDIN WITH\n",
    "   CSV\n",
    "   HEADER\n",
    "   DELIMITER AS ','\n",
    "\"\"\"\n",
    "cursor.copy_expert(sql = SQL_STATEMENT, file=my_file)\n",
    "print('file copied to db')"
   ]
  },
  {
   "cell_type": "code",
   "execution_count": 24,
   "metadata": {},
   "outputs": [
    {
     "name": "stdout",
     "output_type": "stream",
     "text": [
      "table vendor_payments imported successfully\n"
     ]
    }
   ],
   "source": [
    "cursor.execute(\"grant select on table vendor_payments to public\")\n",
    "conn.commit()\n",
    "\n",
    "cursor.close()\n",
    "print('table vendor_payments imported successfully')"
   ]
  },
  {
   "cell_type": "code",
   "execution_count": null,
   "metadata": {},
   "outputs": [],
   "source": []
  }
 ],
 "metadata": {
  "kernelspec": {
   "display_name": "Python 3.10.8 64-bit",
   "language": "python",
   "name": "python3"
  },
  "language_info": {
   "codemirror_mode": {
    "name": "ipython",
    "version": 3
   },
   "file_extension": ".py",
   "mimetype": "text/x-python",
   "name": "python",
   "nbconvert_exporter": "python",
   "pygments_lexer": "ipython3",
   "version": "3.10.8"
  },
  "orig_nbformat": 4,
  "vscode": {
   "interpreter": {
    "hash": "7b76d6c75b1d56db4f5466d4f9891fa92c6d4201cfdc9a93c61b7dc467bac3ab"
   }
  }
 },
 "nbformat": 4,
 "nbformat_minor": 2
}
