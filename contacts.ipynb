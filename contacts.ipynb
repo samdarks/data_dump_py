{
 "cells": [
  {
   "cell_type": "code",
   "execution_count": 1,
   "metadata": {},
   "outputs": [],
   "source": [
    "import pandas as pd\n",
    "import os\n",
    "import numpy as np\n",
    "import openpyxl\n",
    "import psycopg2"
   ]
  },
  {
   "cell_type": "code",
   "execution_count": 2,
   "metadata": {},
   "outputs": [
    {
     "name": "stderr",
     "output_type": "stream",
     "text": [
      "c:\\Users\\Jetstreamafrica\\AppData\\Local\\Programs\\Python\\Python310\\lib\\site-packages\\openpyxl\\styles\\stylesheet.py:226: UserWarning: Workbook contains no default style, apply openpyxl's default\n",
      "  warn(\"Workbook contains no default style, apply openpyxl's default\")\n"
     ]
    },
    {
     "data": {
      "text/html": [
       "<div>\n",
       "<style scoped>\n",
       "    .dataframe tbody tr th:only-of-type {\n",
       "        vertical-align: middle;\n",
       "    }\n",
       "\n",
       "    .dataframe tbody tr th {\n",
       "        vertical-align: top;\n",
       "    }\n",
       "\n",
       "    .dataframe thead th {\n",
       "        text-align: right;\n",
       "    }\n",
       "</style>\n",
       "<table border=\"1\" class=\"dataframe\">\n",
       "  <thead>\n",
       "    <tr style=\"text-align: right;\">\n",
       "      <th></th>\n",
       "      <th>Created Time</th>\n",
       "      <th>Last Modified Time</th>\n",
       "      <th>Display Name</th>\n",
       "      <th>Company Name</th>\n",
       "      <th>Salutation</th>\n",
       "      <th>First Name</th>\n",
       "      <th>Last Name</th>\n",
       "      <th>Phone</th>\n",
       "      <th>Currency Code</th>\n",
       "      <th>Notes</th>\n",
       "      <th>...</th>\n",
       "      <th>EmailID</th>\n",
       "      <th>MobilePhone</th>\n",
       "      <th>Contact ID</th>\n",
       "      <th>Contact Name</th>\n",
       "      <th>Contact Type</th>\n",
       "      <th>Taxable</th>\n",
       "      <th>Tax Name</th>\n",
       "      <th>Tax Percentage</th>\n",
       "      <th>Contact Address ID</th>\n",
       "      <th>Source</th>\n",
       "    </tr>\n",
       "  </thead>\n",
       "  <tbody>\n",
       "    <tr>\n",
       "      <th>0</th>\n",
       "      <td>2021-07-08 20:04:41</td>\n",
       "      <td>2022-01-20 05:16:24</td>\n",
       "      <td>VLEC Delivery Services - GHS</td>\n",
       "      <td>VLEC Delivery Services - GHS</td>\n",
       "      <td>NaN</td>\n",
       "      <td>Bonsu</td>\n",
       "      <td>NaN</td>\n",
       "      <td>NaN</td>\n",
       "      <td>GHS</td>\n",
       "      <td>NaN</td>\n",
       "      <td>...</td>\n",
       "      <td>infor@victoriouscargo.nl</td>\n",
       "      <td>+233204679781</td>\n",
       "      <td>2620362000000078039</td>\n",
       "      <td>VLEC Delivery Services - GHS</td>\n",
       "      <td>customer</td>\n",
       "      <td>True</td>\n",
       "      <td>NaN</td>\n",
       "      <td>NaN</td>\n",
       "      <td>2620362000000078039</td>\n",
       "      <td>user</td>\n",
       "    </tr>\n",
       "    <tr>\n",
       "      <th>1</th>\n",
       "      <td>2021-07-08 20:55:37</td>\n",
       "      <td>2022-02-07 22:11:00</td>\n",
       "      <td>PharmaConnect Nigeria - NGN</td>\n",
       "      <td>PharmaConnect Nigeria - NGN</td>\n",
       "      <td>Mr.</td>\n",
       "      <td>Malachi</td>\n",
       "      <td>Sobowale</td>\n",
       "      <td>NaN</td>\n",
       "      <td>NGN</td>\n",
       "      <td>NaN</td>\n",
       "      <td>...</td>\n",
       "      <td>malachi@mpharma.com</td>\n",
       "      <td>2348170339709</td>\n",
       "      <td>2620362000000078149</td>\n",
       "      <td>PharmaConnect Nigeria - NGN</td>\n",
       "      <td>customer</td>\n",
       "      <td>True</td>\n",
       "      <td>NaN</td>\n",
       "      <td>NaN</td>\n",
       "      <td>2620362000000078149</td>\n",
       "      <td>user</td>\n",
       "    </tr>\n",
       "    <tr>\n",
       "      <th>2</th>\n",
       "      <td>2021-07-08 21:09:34</td>\n",
       "      <td>2022-01-20 05:16:06</td>\n",
       "      <td>Spill Shea Butter - USD</td>\n",
       "      <td>Spill Shea Butter - USD</td>\n",
       "      <td>Mr</td>\n",
       "      <td>Hamza</td>\n",
       "      <td>Mogtari Mabruka</td>\n",
       "      <td>NaN</td>\n",
       "      <td>USD</td>\n",
       "      <td>NaN</td>\n",
       "      <td>...</td>\n",
       "      <td>hamzamaby11@gmail.com</td>\n",
       "      <td>0502845460</td>\n",
       "      <td>2620362000000078195</td>\n",
       "      <td>Spill Shea Butter - USD</td>\n",
       "      <td>customer</td>\n",
       "      <td>True</td>\n",
       "      <td>NaN</td>\n",
       "      <td>NaN</td>\n",
       "      <td>2620362000000078195</td>\n",
       "      <td>user</td>\n",
       "    </tr>\n",
       "    <tr>\n",
       "      <th>3</th>\n",
       "      <td>2021-07-08 21:34:43</td>\n",
       "      <td>2022-01-20 05:16:39</td>\n",
       "      <td>Organic Pavillion - USD</td>\n",
       "      <td>Organic Pavillion - USD</td>\n",
       "      <td>Mr.</td>\n",
       "      <td>Jerry</td>\n",
       "      <td>Adams</td>\n",
       "      <td>NaN</td>\n",
       "      <td>USD</td>\n",
       "      <td>NaN</td>\n",
       "      <td>...</td>\n",
       "      <td>NaN</td>\n",
       "      <td>0553763787</td>\n",
       "      <td>2620362000000082027</td>\n",
       "      <td>Organic Pavillion - USD</td>\n",
       "      <td>customer</td>\n",
       "      <td>True</td>\n",
       "      <td>NaN</td>\n",
       "      <td>NaN</td>\n",
       "      <td>2620362000000082027</td>\n",
       "      <td>user</td>\n",
       "    </tr>\n",
       "    <tr>\n",
       "      <th>4</th>\n",
       "      <td>2021-07-08 23:14:46</td>\n",
       "      <td>2021-10-25 03:16:54</td>\n",
       "      <td>Hans &amp; Ezra - USD</td>\n",
       "      <td>Hans &amp; Ezra - USD</td>\n",
       "      <td>Mr.</td>\n",
       "      <td>David</td>\n",
       "      <td>Osei</td>\n",
       "      <td>NaN</td>\n",
       "      <td>USD</td>\n",
       "      <td>NaN</td>\n",
       "      <td>...</td>\n",
       "      <td>david.ok@hansezra.com</td>\n",
       "      <td>NaN</td>\n",
       "      <td>2620362000000082412</td>\n",
       "      <td>Hans &amp; Ezra - USD</td>\n",
       "      <td>customer</td>\n",
       "      <td>True</td>\n",
       "      <td>NaN</td>\n",
       "      <td>NaN</td>\n",
       "      <td>2620362000000082412</td>\n",
       "      <td>user</td>\n",
       "    </tr>\n",
       "  </tbody>\n",
       "</table>\n",
       "<p>5 rows × 58 columns</p>\n",
       "</div>"
      ],
      "text/plain": [
       "          Created Time   Last Modified Time                  Display Name  \\\n",
       "0  2021-07-08 20:04:41  2022-01-20 05:16:24  VLEC Delivery Services - GHS   \n",
       "1  2021-07-08 20:55:37  2022-02-07 22:11:00   PharmaConnect Nigeria - NGN   \n",
       "2  2021-07-08 21:09:34  2022-01-20 05:16:06       Spill Shea Butter - USD   \n",
       "3  2021-07-08 21:34:43  2022-01-20 05:16:39       Organic Pavillion - USD   \n",
       "4  2021-07-08 23:14:46  2021-10-25 03:16:54             Hans & Ezra - USD   \n",
       "\n",
       "                   Company Name Salutation First Name        Last Name Phone  \\\n",
       "0  VLEC Delivery Services - GHS        NaN      Bonsu              NaN   NaN   \n",
       "1   PharmaConnect Nigeria - NGN        Mr.    Malachi         Sobowale   NaN   \n",
       "2       Spill Shea Butter - USD         Mr      Hamza  Mogtari Mabruka   NaN   \n",
       "3       Organic Pavillion - USD        Mr.      Jerry            Adams   NaN   \n",
       "4             Hans & Ezra - USD        Mr.      David             Osei   NaN   \n",
       "\n",
       "  Currency Code  Notes  ...                   EmailID    MobilePhone  \\\n",
       "0           GHS    NaN  ...  infor@victoriouscargo.nl  +233204679781   \n",
       "1           NGN    NaN  ...       malachi@mpharma.com  2348170339709   \n",
       "2           USD    NaN  ...     hamzamaby11@gmail.com     0502845460   \n",
       "3           USD    NaN  ...                       NaN     0553763787   \n",
       "4           USD    NaN  ...     david.ok@hansezra.com            NaN   \n",
       "\n",
       "            Contact ID                  Contact Name  Contact Type  Taxable  \\\n",
       "0  2620362000000078039  VLEC Delivery Services - GHS      customer     True   \n",
       "1  2620362000000078149   PharmaConnect Nigeria - NGN      customer     True   \n",
       "2  2620362000000078195       Spill Shea Butter - USD      customer     True   \n",
       "3  2620362000000082027       Organic Pavillion - USD      customer     True   \n",
       "4  2620362000000082412             Hans & Ezra - USD      customer     True   \n",
       "\n",
       "   Tax Name Tax Percentage   Contact Address ID Source  \n",
       "0       NaN            NaN  2620362000000078039   user  \n",
       "1       NaN            NaN  2620362000000078149   user  \n",
       "2       NaN            NaN  2620362000000078195   user  \n",
       "3       NaN            NaN  2620362000000082027   user  \n",
       "4       NaN            NaN  2620362000000082412   user  \n",
       "\n",
       "[5 rows x 58 columns]"
      ]
     },
     "execution_count": 2,
     "metadata": {},
     "output_type": "execute_result"
    }
   ],
   "source": [
    "df= pd.read_excel(\"Contacts.xlsx\")\n",
    "df.head()"
   ]
  },
  {
   "cell_type": "code",
   "execution_count": 3,
   "metadata": {},
   "outputs": [
    {
     "data": {
      "text/plain": [
       "Index(['created_time', 'last_modified_time', 'display_name', 'company_name',\n",
       "       'salutation', 'first_name', 'last_name', 'phone', 'currency_code',\n",
       "       'notes', 'website', 'status', 'opening_balance', 'exchange_rate',\n",
       "       'branch_id', 'branch_name', 'credit_limit', 'customer_sub_type',\n",
       "       'billing_attention', 'billing_address', 'billing_street2',\n",
       "       'billing_city', 'billing_state', 'billing_country', 'billing_code',\n",
       "       'billing_phone', 'billing_fax', 'shipping_attention',\n",
       "       'shipping_address', 'shipping_street2', 'shipping_city',\n",
       "       'shipping_state', 'shipping_country', 'shipping_code', 'shipping_phone',\n",
       "       'shipping_fax', 'skype_identity', 'facebook', 'twitter', 'department',\n",
       "       'designation', 'price_list', 'payment_terms', 'payment_terms_label',\n",
       "       'tax_type', 'last_sync_time', 'owner_name', 'primary_contact_id',\n",
       "       'emailid', 'mobilephone', 'contact_id', 'contact_name', 'contact_type',\n",
       "       'taxable', 'tax_name', 'tax_percentage', 'contact_address_id',\n",
       "       'source'],\n",
       "      dtype='object')"
      ]
     },
     "execution_count": 3,
     "metadata": {},
     "output_type": "execute_result"
    }
   ],
   "source": [
    "df.columns = [x.lower().replace(\" \",\"_\").replace(\".\",\"\")for x in df.columns]\n",
    "df.columns"
   ]
  },
  {
   "cell_type": "code",
   "execution_count": 4,
   "metadata": {},
   "outputs": [
    {
     "data": {
      "text/plain": [
       "created_time            object\n",
       "last_modified_time      object\n",
       "display_name            object\n",
       "company_name            object\n",
       "salutation              object\n",
       "first_name              object\n",
       "last_name               object\n",
       "phone                   object\n",
       "currency_code           object\n",
       "notes                  float64\n",
       "website                 object\n",
       "status                  object\n",
       "opening_balance        float64\n",
       "exchange_rate          float64\n",
       "branch_id              float64\n",
       "branch_name            float64\n",
       "credit_limit           float64\n",
       "customer_sub_type       object\n",
       "billing_attention       object\n",
       "billing_address         object\n",
       "billing_street2         object\n",
       "billing_city            object\n",
       "billing_state           object\n",
       "billing_country         object\n",
       "billing_code           float64\n",
       "billing_phone           object\n",
       "billing_fax            float64\n",
       "shipping_attention      object\n",
       "shipping_address        object\n",
       "shipping_street2       float64\n",
       "shipping_city           object\n",
       "shipping_state          object\n",
       "shipping_country        object\n",
       "shipping_code          float64\n",
       "shipping_phone         float64\n",
       "shipping_fax           float64\n",
       "skype_identity         float64\n",
       "facebook               float64\n",
       "twitter                float64\n",
       "department             float64\n",
       "designation            float64\n",
       "price_list             float64\n",
       "payment_terms            int64\n",
       "payment_terms_label     object\n",
       "tax_type                object\n",
       "last_sync_time         float64\n",
       "owner_name             float64\n",
       "primary_contact_id     float64\n",
       "emailid                 object\n",
       "mobilephone             object\n",
       "contact_id               int64\n",
       "contact_name            object\n",
       "contact_type            object\n",
       "taxable                   bool\n",
       "tax_name                object\n",
       "tax_percentage         float64\n",
       "contact_address_id       int64\n",
       "source                  object\n",
       "dtype: object"
      ]
     },
     "execution_count": 4,
     "metadata": {},
     "output_type": "execute_result"
    }
   ],
   "source": [
    "df.dtypes"
   ]
  },
  {
   "cell_type": "code",
   "execution_count": 6,
   "metadata": {},
   "outputs": [
    {
     "data": {
      "text/plain": [
       "{'object': 'varchar',\n",
       " 'float64': 'float',\n",
       " 'int64': 'varcahr',\n",
       " 'datetime64[ns]': 'varchar',\n",
       " 'datetime64': 'timestamp',\n",
       " 'bool': 'varchar'}"
      ]
     },
     "execution_count": 6,
     "metadata": {},
     "output_type": "execute_result"
    }
   ],
   "source": [
    "replacements = {\n",
    "    'object' : 'varchar',\n",
    "    'float64' : 'float',\n",
    "    'int64' : 'varchar',\n",
    "    'datetime64[ns]': 'varchar',\n",
    "    'datetime64': 'timestamp',\n",
    "    'bool' : 'varchar'\n",
    "}\n",
    "replacements"
   ]
  },
  {
   "cell_type": "code",
   "execution_count": 7,
   "metadata": {},
   "outputs": [
    {
     "data": {
      "text/plain": [
       "'created_time varchar, last_modified_time varchar, display_name varchar, company_name varchar, salutation varchar, first_name varchar, last_name varchar, phone varchar, currency_code varchar, notes float, website varchar, status varchar, opening_balance float, exchange_rate float, branch_id float, branch_name float, credit_limit float, customer_sub_type varchar, billing_attention varchar, billing_address varchar, billing_street2 varchar, billing_city varchar, billing_state varchar, billing_country varchar, billing_code float, billing_phone varchar, billing_fax float, shipping_attention varchar, shipping_address varchar, shipping_street2 float, shipping_city varchar, shipping_state varchar, shipping_country varchar, shipping_code float, shipping_phone float, shipping_fax float, skype_identity float, facebook float, twitter float, department float, designation float, price_list float, payment_terms varcahr, payment_terms_label varchar, tax_type varchar, last_sync_time float, owner_name float, primary_contact_id float, emailid varchar, mobilephone varchar, contact_id varcahr, contact_name varchar, contact_type varchar, taxable varchar, tax_name varchar, tax_percentage float, contact_address_id varcahr, source varchar'"
      ]
     },
     "execution_count": 7,
     "metadata": {},
     "output_type": "execute_result"
    }
   ],
   "source": [
    "col_str = \", \".join(\"{} {}\".format(n, d) for (n, d) in zip(df.columns, df.dtypes.replace(replacements)))\n",
    "col_str"
   ]
  },
  {
   "cell_type": "code",
   "execution_count": 24,
   "metadata": {},
   "outputs": [
    {
     "name": "stdout",
     "output_type": "stream",
     "text": [
      "opened database successfully\n"
     ]
    }
   ],
   "source": [
    "conn_string = \"host= db.app.production.jetstreamafrica.com \\\n",
    "                dbname='jetstream-finance' \\\n",
    "                    user='ujetstreamfinance' password='Smehr5A7FGw4jEX@' \"\n",
    "\n",
    "conn = psycopg2.connect(conn_string)\n",
    "cursor = conn.cursor()\n",
    "\n",
    "print('opened database successfully')"
   ]
  },
  {
   "cell_type": "code",
   "execution_count": 25,
   "metadata": {},
   "outputs": [],
   "source": [
    "cursor.execute(\"drop table if exists contacts;\")"
   ]
  },
  {
   "cell_type": "code",
   "execution_count": 26,
   "metadata": {},
   "outputs": [],
   "source": [
    "cursor.execute(\"create table contacts \\\n",
    "    (created_time varchar, last_modified_time varchar, display_name varchar, company_name varchar, salutation varchar, first_name varchar, last_name varchar, phone varchar, currency_code varchar, notes varchar, website varchar, status varchar, opening_balance float, exchange_rate float, branch_id varchar, branch_name varchar, credit_limit float, customer_sub_type varchar, billing_attention varchar, billing_address varchar, billing_street2 varchar, billing_city varchar, billing_state varchar, billing_country varchar, billing_code float, billing_phone varchar, billing_fax float, shipping_attention varchar, shipping_address varchar, shipping_street2 float, shipping_city varchar, shipping_state varchar, shipping_country varchar, shipping_code float, shipping_phone float, shipping_fax float, skype_identity varchar, facebook varchar, twitter varchar, department varchar, designation varchar, price_list float, payment_terms varchar, payment_terms_label varchar, tax_type varchar, last_sync_time varchar, owner_name varchar, primary_contact_id float, emailid varchar, mobilephone varchar, contact_id varchar, contact_name varchar, contact_type varchar, taxable varchar, tax_name varchar, tax_percentage float, contact_address_id varchar, source varchar)\")"
   ]
  },
  {
   "cell_type": "code",
   "execution_count": 27,
   "metadata": {},
   "outputs": [
    {
     "name": "stdout",
     "output_type": "stream",
     "text": [
      "file opened in memory\n"
     ]
    }
   ],
   "source": [
    "df.to_csv('contacts', header=df.columns, index=False, encoding='utf-8')\n",
    "my_file = open(\"contacts\")\n",
    "print('file opened in memory')"
   ]
  },
  {
   "cell_type": "code",
   "execution_count": 28,
   "metadata": {},
   "outputs": [
    {
     "name": "stdout",
     "output_type": "stream",
     "text": [
      "file copied to db\n"
     ]
    }
   ],
   "source": [
    "SQL_STATEMENT = \"\"\"\n",
    "COPY contacts FROM STDIN WITH\n",
    "   CSV\n",
    "   HEADER\n",
    "   DELIMITER AS ','\n",
    "\"\"\"\n",
    "cursor.copy_expert(sql = SQL_STATEMENT, file=my_file)\n",
    "print('file copied to db')"
   ]
  },
  {
   "cell_type": "code",
   "execution_count": 29,
   "metadata": {},
   "outputs": [
    {
     "name": "stdout",
     "output_type": "stream",
     "text": [
      "table contacts imported successfully\n"
     ]
    }
   ],
   "source": [
    "cursor.execute(\"grant select on table contacts to public\")\n",
    "conn.commit()\n",
    "\n",
    "cursor.close()\n",
    "print('table contacts imported successfully')"
   ]
  }
 ],
 "metadata": {
  "kernelspec": {
   "display_name": "Python 3.10.8 64-bit",
   "language": "python",
   "name": "python3"
  },
  "language_info": {
   "codemirror_mode": {
    "name": "ipython",
    "version": 3
   },
   "file_extension": ".py",
   "mimetype": "text/x-python",
   "name": "python",
   "nbconvert_exporter": "python",
   "pygments_lexer": "ipython3",
   "version": "3.10.8"
  },
  "orig_nbformat": 4,
  "vscode": {
   "interpreter": {
    "hash": "7b76d6c75b1d56db4f5466d4f9891fa92c6d4201cfdc9a93c61b7dc467bac3ab"
   }
  }
 },
 "nbformat": 4,
 "nbformat_minor": 2
}
