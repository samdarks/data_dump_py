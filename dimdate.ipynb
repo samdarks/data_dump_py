{
 "cells": [
  {
   "cell_type": "code",
   "execution_count": 6,
   "metadata": {},
   "outputs": [],
   "source": [
    "import pandas as pd\n",
    "import numpy as np\n",
    "import os\n",
    "import psycopg2"
   ]
  },
  {
   "cell_type": "code",
   "execution_count": 7,
   "metadata": {},
   "outputs": [
    {
     "data": {
      "text/html": [
       "<div>\n",
       "<style scoped>\n",
       "    .dataframe tbody tr th:only-of-type {\n",
       "        vertical-align: middle;\n",
       "    }\n",
       "\n",
       "    .dataframe tbody tr th {\n",
       "        vertical-align: top;\n",
       "    }\n",
       "\n",
       "    .dataframe thead th {\n",
       "        text-align: right;\n",
       "    }\n",
       "</style>\n",
       "<table border=\"1\" class=\"dataframe\">\n",
       "  <thead>\n",
       "    <tr style=\"text-align: right;\">\n",
       "      <th></th>\n",
       "      <th>date</th>\n",
       "    </tr>\n",
       "  </thead>\n",
       "  <tbody>\n",
       "    <tr>\n",
       "      <th>0</th>\n",
       "      <td>2021-01-01</td>\n",
       "    </tr>\n",
       "    <tr>\n",
       "      <th>1</th>\n",
       "      <td>2021-01-02</td>\n",
       "    </tr>\n",
       "    <tr>\n",
       "      <th>2</th>\n",
       "      <td>2021-01-03</td>\n",
       "    </tr>\n",
       "    <tr>\n",
       "      <th>3</th>\n",
       "      <td>2021-01-04</td>\n",
       "    </tr>\n",
       "    <tr>\n",
       "      <th>4</th>\n",
       "      <td>2021-01-05</td>\n",
       "    </tr>\n",
       "    <tr>\n",
       "      <th>...</th>\n",
       "      <td>...</td>\n",
       "    </tr>\n",
       "    <tr>\n",
       "      <th>1090</th>\n",
       "      <td>2023-12-27</td>\n",
       "    </tr>\n",
       "    <tr>\n",
       "      <th>1091</th>\n",
       "      <td>2023-12-28</td>\n",
       "    </tr>\n",
       "    <tr>\n",
       "      <th>1092</th>\n",
       "      <td>2023-12-29</td>\n",
       "    </tr>\n",
       "    <tr>\n",
       "      <th>1093</th>\n",
       "      <td>2023-12-30</td>\n",
       "    </tr>\n",
       "    <tr>\n",
       "      <th>1094</th>\n",
       "      <td>2023-12-31</td>\n",
       "    </tr>\n",
       "  </tbody>\n",
       "</table>\n",
       "<p>1095 rows × 1 columns</p>\n",
       "</div>"
      ],
      "text/plain": [
       "           date\n",
       "0    2021-01-01\n",
       "1    2021-01-02\n",
       "2    2021-01-03\n",
       "3    2021-01-04\n",
       "4    2021-01-05\n",
       "...         ...\n",
       "1090 2023-12-27\n",
       "1091 2023-12-28\n",
       "1092 2023-12-29\n",
       "1093 2023-12-30\n",
       "1094 2023-12-31\n",
       "\n",
       "[1095 rows x 1 columns]"
      ]
     },
     "execution_count": 7,
     "metadata": {},
     "output_type": "execute_result"
    }
   ],
   "source": [
    "df = pd.DataFrame(pd.date_range('1/1/2021','12/31/2023'), columns=['date'])\n",
    "df"
   ]
  },
  {
   "cell_type": "code",
   "execution_count": 9,
   "metadata": {},
   "outputs": [
    {
     "data": {
      "text/html": [
       "<div>\n",
       "<style scoped>\n",
       "    .dataframe tbody tr th:only-of-type {\n",
       "        vertical-align: middle;\n",
       "    }\n",
       "\n",
       "    .dataframe tbody tr th {\n",
       "        vertical-align: top;\n",
       "    }\n",
       "\n",
       "    .dataframe thead th {\n",
       "        text-align: right;\n",
       "    }\n",
       "</style>\n",
       "<table border=\"1\" class=\"dataframe\">\n",
       "  <thead>\n",
       "    <tr style=\"text-align: right;\">\n",
       "      <th></th>\n",
       "      <th>date</th>\n",
       "      <th>year</th>\n",
       "      <th>quarter_number</th>\n",
       "      <th>quarter_text</th>\n",
       "      <th>month</th>\n",
       "      <th>year_month</th>\n",
       "      <th>week</th>\n",
       "      <th>year_week</th>\n",
       "      <th>weekday</th>\n",
       "      <th>month_name</th>\n",
       "    </tr>\n",
       "  </thead>\n",
       "  <tbody>\n",
       "    <tr>\n",
       "      <th>0</th>\n",
       "      <td>2021-01-01</td>\n",
       "      <td>2021</td>\n",
       "      <td>1</td>\n",
       "      <td>Q1 2021</td>\n",
       "      <td>1</td>\n",
       "      <td>January 2021</td>\n",
       "      <td>53</td>\n",
       "      <td>2020, Week 53</td>\n",
       "      <td>Friday</td>\n",
       "      <td>January</td>\n",
       "    </tr>\n",
       "    <tr>\n",
       "      <th>1</th>\n",
       "      <td>2021-01-02</td>\n",
       "      <td>2021</td>\n",
       "      <td>1</td>\n",
       "      <td>Q1 2021</td>\n",
       "      <td>1</td>\n",
       "      <td>January 2021</td>\n",
       "      <td>53</td>\n",
       "      <td>2020, Week 53</td>\n",
       "      <td>Saturday</td>\n",
       "      <td>January</td>\n",
       "    </tr>\n",
       "    <tr>\n",
       "      <th>2</th>\n",
       "      <td>2021-01-03</td>\n",
       "      <td>2021</td>\n",
       "      <td>1</td>\n",
       "      <td>Q1 2021</td>\n",
       "      <td>1</td>\n",
       "      <td>January 2021</td>\n",
       "      <td>53</td>\n",
       "      <td>2020, Week 53</td>\n",
       "      <td>Sunday</td>\n",
       "      <td>January</td>\n",
       "    </tr>\n",
       "    <tr>\n",
       "      <th>3</th>\n",
       "      <td>2021-01-04</td>\n",
       "      <td>2021</td>\n",
       "      <td>1</td>\n",
       "      <td>Q1 2021</td>\n",
       "      <td>1</td>\n",
       "      <td>January 2021</td>\n",
       "      <td>1</td>\n",
       "      <td>2021, Week 1</td>\n",
       "      <td>Monday</td>\n",
       "      <td>January</td>\n",
       "    </tr>\n",
       "    <tr>\n",
       "      <th>4</th>\n",
       "      <td>2021-01-05</td>\n",
       "      <td>2021</td>\n",
       "      <td>1</td>\n",
       "      <td>Q1 2021</td>\n",
       "      <td>1</td>\n",
       "      <td>January 2021</td>\n",
       "      <td>1</td>\n",
       "      <td>2021, Week 1</td>\n",
       "      <td>Tuesday</td>\n",
       "      <td>January</td>\n",
       "    </tr>\n",
       "    <tr>\n",
       "      <th>...</th>\n",
       "      <td>...</td>\n",
       "      <td>...</td>\n",
       "      <td>...</td>\n",
       "      <td>...</td>\n",
       "      <td>...</td>\n",
       "      <td>...</td>\n",
       "      <td>...</td>\n",
       "      <td>...</td>\n",
       "      <td>...</td>\n",
       "      <td>...</td>\n",
       "    </tr>\n",
       "    <tr>\n",
       "      <th>1090</th>\n",
       "      <td>2023-12-27</td>\n",
       "      <td>2023</td>\n",
       "      <td>4</td>\n",
       "      <td>Q4 2023</td>\n",
       "      <td>12</td>\n",
       "      <td>December 2023</td>\n",
       "      <td>52</td>\n",
       "      <td>2023, Week 52</td>\n",
       "      <td>Wednesday</td>\n",
       "      <td>December</td>\n",
       "    </tr>\n",
       "    <tr>\n",
       "      <th>1091</th>\n",
       "      <td>2023-12-28</td>\n",
       "      <td>2023</td>\n",
       "      <td>4</td>\n",
       "      <td>Q4 2023</td>\n",
       "      <td>12</td>\n",
       "      <td>December 2023</td>\n",
       "      <td>52</td>\n",
       "      <td>2023, Week 52</td>\n",
       "      <td>Thursday</td>\n",
       "      <td>December</td>\n",
       "    </tr>\n",
       "    <tr>\n",
       "      <th>1092</th>\n",
       "      <td>2023-12-29</td>\n",
       "      <td>2023</td>\n",
       "      <td>4</td>\n",
       "      <td>Q4 2023</td>\n",
       "      <td>12</td>\n",
       "      <td>December 2023</td>\n",
       "      <td>52</td>\n",
       "      <td>2023, Week 52</td>\n",
       "      <td>Friday</td>\n",
       "      <td>December</td>\n",
       "    </tr>\n",
       "    <tr>\n",
       "      <th>1093</th>\n",
       "      <td>2023-12-30</td>\n",
       "      <td>2023</td>\n",
       "      <td>4</td>\n",
       "      <td>Q4 2023</td>\n",
       "      <td>12</td>\n",
       "      <td>December 2023</td>\n",
       "      <td>52</td>\n",
       "      <td>2023, Week 52</td>\n",
       "      <td>Saturday</td>\n",
       "      <td>December</td>\n",
       "    </tr>\n",
       "    <tr>\n",
       "      <th>1094</th>\n",
       "      <td>2023-12-31</td>\n",
       "      <td>2023</td>\n",
       "      <td>4</td>\n",
       "      <td>Q4 2023</td>\n",
       "      <td>12</td>\n",
       "      <td>December 2023</td>\n",
       "      <td>52</td>\n",
       "      <td>2023, Week 52</td>\n",
       "      <td>Sunday</td>\n",
       "      <td>December</td>\n",
       "    </tr>\n",
       "  </tbody>\n",
       "</table>\n",
       "<p>1095 rows × 10 columns</p>\n",
       "</div>"
      ],
      "text/plain": [
       "           date  year  quarter_number quarter_text  month     year_month  \\\n",
       "0    2021-01-01  2021               1      Q1 2021      1   January 2021   \n",
       "1    2021-01-02  2021               1      Q1 2021      1   January 2021   \n",
       "2    2021-01-03  2021               1      Q1 2021      1   January 2021   \n",
       "3    2021-01-04  2021               1      Q1 2021      1   January 2021   \n",
       "4    2021-01-05  2021               1      Q1 2021      1   January 2021   \n",
       "...         ...   ...             ...          ...    ...            ...   \n",
       "1090 2023-12-27  2023               4      Q4 2023     12  December 2023   \n",
       "1091 2023-12-28  2023               4      Q4 2023     12  December 2023   \n",
       "1092 2023-12-29  2023               4      Q4 2023     12  December 2023   \n",
       "1093 2023-12-30  2023               4      Q4 2023     12  December 2023   \n",
       "1094 2023-12-31  2023               4      Q4 2023     12  December 2023   \n",
       "\n",
       "      week      year_week    weekday month_name  \n",
       "0       53  2020, Week 53     Friday    January  \n",
       "1       53  2020, Week 53   Saturday    January  \n",
       "2       53  2020, Week 53     Sunday    January  \n",
       "3        1   2021, Week 1     Monday    January  \n",
       "4        1   2021, Week 1    Tuesday    January  \n",
       "...    ...            ...        ...        ...  \n",
       "1090    52  2023, Week 52  Wednesday   December  \n",
       "1091    52  2023, Week 52   Thursday   December  \n",
       "1092    52  2023, Week 52     Friday   December  \n",
       "1093    52  2023, Week 52   Saturday   December  \n",
       "1094    52  2023, Week 52     Sunday   December  \n",
       "\n",
       "[1095 rows x 10 columns]"
      ]
     },
     "execution_count": 9,
     "metadata": {},
     "output_type": "execute_result"
    }
   ],
   "source": [
    "df['year'] = df['date'].dt.year\n",
    "df['quarter_number'] = df['date'].dt.quarter\n",
    "df['quarter_text'] = df['date'].apply(lambda x: f'Q{x.quarter} {x.strftime(\"%Y\")}')\n",
    "df['month'] = df['date'].dt.month\n",
    "df['month_name'] = df['date'].dt.strftime(\"%B\")\n",
    "df['year_month'] = df['date'].dt.strftime(\"%B %Y\")\n",
    "df['week'] = df['date'].dt.isocalendar().week\n",
    "df['year_week'] = df['date'].apply(lambda x: f'{x.isocalendar()[0]}, Week {x.isocalendar()[1]}')\n",
    "df['weekday'] = df['date'].dt.strftime(\"%A\")\n",
    "df"
   ]
  },
  {
   "cell_type": "code",
   "execution_count": 17,
   "metadata": {},
   "outputs": [
    {
     "data": {
      "text/plain": [
       "Index(['date', 'year', 'quarter_number', 'quarter_text', 'month', 'year_month',\n",
       "       'week', 'year_week', 'weekday', 'month_name'],\n",
       "      dtype='object')"
      ]
     },
     "execution_count": 17,
     "metadata": {},
     "output_type": "execute_result"
    }
   ],
   "source": [
    "df.columns = [x.lower().replace(\" \",\"_\").replace(\"%\",\"\")for x in df.columns]\n",
    "df.columns"
   ]
  },
  {
   "cell_type": "code",
   "execution_count": 12,
   "metadata": {},
   "outputs": [
    {
     "data": {
      "text/plain": [
       "{'object': 'varchar',\n",
       " 'int64': 'varchar',\n",
       " 'datetime64[ns]': 'date',\n",
       " 'datetime64': 'timestamp',\n",
       " 'UInt32': 'varchar'}"
      ]
     },
     "execution_count": 12,
     "metadata": {},
     "output_type": "execute_result"
    }
   ],
   "source": [
    "replacements = {\n",
    "    'object' : 'varchar',\n",
    "    'int64' : 'varchar',\n",
    "    'datetime64[ns]': 'date',\n",
    "    'datetime64': 'timestamp',\n",
    "    'UInt32' : 'varchar'\n",
    "}\n",
    "replacements"
   ]
  },
  {
   "cell_type": "code",
   "execution_count": 13,
   "metadata": {},
   "outputs": [
    {
     "data": {
      "text/plain": [
       "'date date, year varchar, quarter_number varchar, quarter_text varchar, month varchar, year_month varchar, week varchar, year_week varchar, weekday varchar, month_name varchar'"
      ]
     },
     "execution_count": 13,
     "metadata": {},
     "output_type": "execute_result"
    }
   ],
   "source": [
    "col_str = \", \".join(\"{} {}\".format(n, d) for (n, d) in zip(df.columns, df.dtypes.replace(replacements)))\n",
    "col_str"
   ]
  },
  {
   "cell_type": "code",
   "execution_count": 14,
   "metadata": {},
   "outputs": [
    {
     "name": "stdout",
     "output_type": "stream",
     "text": [
      "opened database successfully\n"
     ]
    }
   ],
   "source": [
    "conn_string = \"host= db.app.production.jetstreamafrica.com \\\n",
    "                dbname='jetstream-finance' \\\n",
    "                    user='ujetstreamfinance' password='Smehr5A7FGw4jEX@' \"\n",
    "\n",
    "conn = psycopg2.connect(conn_string)\n",
    "cursor = conn.cursor()\n",
    "\n",
    "print('opened database successfully')"
   ]
  },
  {
   "cell_type": "code",
   "execution_count": 15,
   "metadata": {},
   "outputs": [],
   "source": [
    "cursor.execute(\"drop table if exists dimdate;\")"
   ]
  },
  {
   "cell_type": "code",
   "execution_count": 16,
   "metadata": {},
   "outputs": [],
   "source": [
    "cursor.execute(\"create table dimdate \\\n",
    "    (date date, year varchar, quarter_number varchar, quarter_text varchar, month varchar, year_month varchar, week varchar, year_week varchar, weekday varchar, month_name varchar)\")"
   ]
  },
  {
   "cell_type": "code",
   "execution_count": 18,
   "metadata": {},
   "outputs": [
    {
     "name": "stdout",
     "output_type": "stream",
     "text": [
      "file opened in memory\n"
     ]
    }
   ],
   "source": [
    "#insert values to tables\n",
    "#save df to csv\n",
    "df.to_csv('dimdate', header=df.columns, index=False, encoding='utf-8')\n",
    "#open the csv file, save it as an object and upload to db\n",
    "my_file = open(\"dimdate\")\n",
    "print('file opened in memory')"
   ]
  },
  {
   "cell_type": "code",
   "execution_count": 19,
   "metadata": {},
   "outputs": [
    {
     "name": "stdout",
     "output_type": "stream",
     "text": [
      "file copied to db\n"
     ]
    }
   ],
   "source": [
    "SQL_STATEMENT = \"\"\"\n",
    "COPY dimdate FROM STDIN WITH\n",
    "   CSV\n",
    "   HEADER\n",
    "   DELIMITER AS ','\n",
    "\"\"\"\n",
    "cursor.copy_expert(sql = SQL_STATEMENT, file=my_file)\n",
    "print('file copied to db')"
   ]
  },
  {
   "cell_type": "code",
   "execution_count": 20,
   "metadata": {},
   "outputs": [
    {
     "name": "stdout",
     "output_type": "stream",
     "text": [
      "table dimdate imported successfully\n"
     ]
    }
   ],
   "source": [
    "cursor.execute(\"grant select on table dimdate to public\")\n",
    "conn.commit()\n",
    "\n",
    "cursor.close()\n",
    "print('table dimdate imported successfully')"
   ]
  }
 ],
 "metadata": {
  "kernelspec": {
   "display_name": "Python 3.10.8 64-bit",
   "language": "python",
   "name": "python3"
  },
  "language_info": {
   "codemirror_mode": {
    "name": "ipython",
    "version": 3
   },
   "file_extension": ".py",
   "mimetype": "text/x-python",
   "name": "python",
   "nbconvert_exporter": "python",
   "pygments_lexer": "ipython3",
   "version": "3.10.8"
  },
  "orig_nbformat": 4,
  "vscode": {
   "interpreter": {
    "hash": "7b76d6c75b1d56db4f5466d4f9891fa92c6d4201cfdc9a93c61b7dc467bac3ab"
   }
  }
 },
 "nbformat": 4,
 "nbformat_minor": 2
}
