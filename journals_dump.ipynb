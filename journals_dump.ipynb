{
 "cells": [
  {
   "cell_type": "code",
   "execution_count": 18,
   "metadata": {},
   "outputs": [],
   "source": [
    "import pandas as pd\n",
    "import  os\n",
    "import numpy as np\n",
    "import psycopg2\n",
    "import glob\n",
    "import openpyxl"
   ]
  },
  {
   "cell_type": "code",
   "execution_count": 31,
   "metadata": {},
   "outputs": [
    {
     "data": {
      "text/html": [
       "<div>\n",
       "<style scoped>\n",
       "    .dataframe tbody tr th:only-of-type {\n",
       "        vertical-align: middle;\n",
       "    }\n",
       "\n",
       "    .dataframe tbody tr th {\n",
       "        vertical-align: top;\n",
       "    }\n",
       "\n",
       "    .dataframe thead th {\n",
       "        text-align: right;\n",
       "    }\n",
       "</style>\n",
       "<table border=\"1\" class=\"dataframe\">\n",
       "  <thead>\n",
       "    <tr style=\"text-align: right;\">\n",
       "      <th></th>\n",
       "      <th>Journal Number</th>\n",
       "      <th>Journal Number Prefix</th>\n",
       "      <th>Journal Number Suffix</th>\n",
       "      <th>Journal Date</th>\n",
       "      <th>Tax Basis</th>\n",
       "      <th>Status</th>\n",
       "      <th>Journal Type</th>\n",
       "      <th>Reference Number</th>\n",
       "      <th>Notes</th>\n",
       "      <th>Is Inclusive Tax</th>\n",
       "      <th>...</th>\n",
       "      <th>Tax Type</th>\n",
       "      <th>Project Name</th>\n",
       "      <th>Debit</th>\n",
       "      <th>Credit</th>\n",
       "      <th>Account</th>\n",
       "      <th>Account Code</th>\n",
       "      <th>Contact Name</th>\n",
       "      <th>Currency</th>\n",
       "      <th>Total</th>\n",
       "      <th>Description</th>\n",
       "    </tr>\n",
       "  </thead>\n",
       "  <tbody>\n",
       "    <tr>\n",
       "      <th>0</th>\n",
       "      <td>1</td>\n",
       "      <td>NaN</td>\n",
       "      <td>1</td>\n",
       "      <td>2018-11-01</td>\n",
       "      <td>Both</td>\n",
       "      <td>Published</td>\n",
       "      <td>Journal</td>\n",
       "      <td>NaN</td>\n",
       "      <td>Capital contribution for various expenses</td>\n",
       "      <td>False</td>\n",
       "      <td>...</td>\n",
       "      <td>Amount</td>\n",
       "      <td>NaN</td>\n",
       "      <td>50000.00</td>\n",
       "      <td>0.00</td>\n",
       "      <td>Owner's Equity</td>\n",
       "      <td>124000002</td>\n",
       "      <td>NaN</td>\n",
       "      <td>GHS</td>\n",
       "      <td>50000.00</td>\n",
       "      <td>Capital contribution for various expenses</td>\n",
       "    </tr>\n",
       "    <tr>\n",
       "      <th>1</th>\n",
       "      <td>1</td>\n",
       "      <td>NaN</td>\n",
       "      <td>1</td>\n",
       "      <td>2018-11-01</td>\n",
       "      <td>Both</td>\n",
       "      <td>Published</td>\n",
       "      <td>Journal</td>\n",
       "      <td>NaN</td>\n",
       "      <td>Capital contribution for various expenses</td>\n",
       "      <td>False</td>\n",
       "      <td>...</td>\n",
       "      <td>Amount</td>\n",
       "      <td>NaN</td>\n",
       "      <td>0.00</td>\n",
       "      <td>50000.00</td>\n",
       "      <td>Stanbic - GHS</td>\n",
       "      <td>111000007</td>\n",
       "      <td>NaN</td>\n",
       "      <td>GHS</td>\n",
       "      <td>50000.00</td>\n",
       "      <td>Capital contribution for various expenses</td>\n",
       "    </tr>\n",
       "    <tr>\n",
       "      <th>2</th>\n",
       "      <td>2</td>\n",
       "      <td>NaN</td>\n",
       "      <td>2</td>\n",
       "      <td>2021-01-01</td>\n",
       "      <td>Both</td>\n",
       "      <td>Published</td>\n",
       "      <td>Journal</td>\n",
       "      <td>NaN</td>\n",
       "      <td>Opening balance from 2020 financial statement</td>\n",
       "      <td>False</td>\n",
       "      <td>...</td>\n",
       "      <td>Amount</td>\n",
       "      <td>NaN</td>\n",
       "      <td>0.00</td>\n",
       "      <td>35616.53</td>\n",
       "      <td>Opening Balance Adjustments</td>\n",
       "      <td>121000004</td>\n",
       "      <td>NaN</td>\n",
       "      <td>GHS</td>\n",
       "      <td>35616.53</td>\n",
       "      <td>NaN</td>\n",
       "    </tr>\n",
       "    <tr>\n",
       "      <th>3</th>\n",
       "      <td>2</td>\n",
       "      <td>NaN</td>\n",
       "      <td>2</td>\n",
       "      <td>2021-01-01</td>\n",
       "      <td>Both</td>\n",
       "      <td>Published</td>\n",
       "      <td>Journal</td>\n",
       "      <td>NaN</td>\n",
       "      <td>Opening balance from 2020 financial statement</td>\n",
       "      <td>False</td>\n",
       "      <td>...</td>\n",
       "      <td>Amount</td>\n",
       "      <td>NaN</td>\n",
       "      <td>35616.53</td>\n",
       "      <td>0.00</td>\n",
       "      <td>Directors account</td>\n",
       "      <td>124000005</td>\n",
       "      <td>NaN</td>\n",
       "      <td>GHS</td>\n",
       "      <td>35616.53</td>\n",
       "      <td>NaN</td>\n",
       "    </tr>\n",
       "    <tr>\n",
       "      <th>4</th>\n",
       "      <td>11</td>\n",
       "      <td>NaN</td>\n",
       "      <td>11</td>\n",
       "      <td>2021-09-21</td>\n",
       "      <td>Both</td>\n",
       "      <td>Published</td>\n",
       "      <td>Journal</td>\n",
       "      <td>Afrigeo Trade Finance</td>\n",
       "      <td>$270k cargo financing over 60 days to purchase...</td>\n",
       "      <td>False</td>\n",
       "      <td>...</td>\n",
       "      <td>Amount</td>\n",
       "      <td>NaN</td>\n",
       "      <td>270000.00</td>\n",
       "      <td>0.00</td>\n",
       "      <td>Trade Finance Loan</td>\n",
       "      <td>112000004</td>\n",
       "      <td>Afrigeo Ghana Limited - USD</td>\n",
       "      <td>USD</td>\n",
       "      <td>270000.00</td>\n",
       "      <td>$270k cargo financing over 60 days to purchase...</td>\n",
       "    </tr>\n",
       "  </tbody>\n",
       "</table>\n",
       "<p>5 rows × 27 columns</p>\n",
       "</div>"
      ],
      "text/plain": [
       "   Journal Number  Journal Number Prefix  Journal Number Suffix Journal Date  \\\n",
       "0               1                    NaN                      1   2018-11-01   \n",
       "1               1                    NaN                      1   2018-11-01   \n",
       "2               2                    NaN                      2   2021-01-01   \n",
       "3               2                    NaN                      2   2021-01-01   \n",
       "4              11                    NaN                     11   2021-09-21   \n",
       "\n",
       "  Tax Basis     Status Journal Type       Reference Number  \\\n",
       "0      Both  Published      Journal                    NaN   \n",
       "1      Both  Published      Journal                    NaN   \n",
       "2      Both  Published      Journal                    NaN   \n",
       "3      Both  Published      Journal                    NaN   \n",
       "4      Both  Published      Journal  Afrigeo Trade Finance   \n",
       "\n",
       "                                               Notes  Is Inclusive Tax  ...  \\\n",
       "0          Capital contribution for various expenses             False  ...   \n",
       "1          Capital contribution for various expenses             False  ...   \n",
       "2      Opening balance from 2020 financial statement             False  ...   \n",
       "3      Opening balance from 2020 financial statement             False  ...   \n",
       "4  $270k cargo financing over 60 days to purchase...             False  ...   \n",
       "\n",
       "   Tax Type  Project Name      Debit    Credit                      Account  \\\n",
       "0    Amount           NaN   50000.00      0.00               Owner's Equity   \n",
       "1    Amount           NaN       0.00  50000.00                Stanbic - GHS   \n",
       "2    Amount           NaN       0.00  35616.53  Opening Balance Adjustments   \n",
       "3    Amount           NaN   35616.53      0.00            Directors account   \n",
       "4    Amount           NaN  270000.00      0.00           Trade Finance Loan   \n",
       "\n",
       "   Account Code                 Contact Name Currency      Total  \\\n",
       "0     124000002                          NaN      GHS   50000.00   \n",
       "1     111000007                          NaN      GHS   50000.00   \n",
       "2     121000004                          NaN      GHS   35616.53   \n",
       "3     124000005                          NaN      GHS   35616.53   \n",
       "4     112000004  Afrigeo Ghana Limited - USD      USD  270000.00   \n",
       "\n",
       "                                         Description  \n",
       "0          Capital contribution for various expenses  \n",
       "1          Capital contribution for various expenses  \n",
       "2                                                NaN  \n",
       "3                                                NaN  \n",
       "4  $270k cargo financing over 60 days to purchase...  \n",
       "\n",
       "[5 rows x 27 columns]"
      ]
     },
     "execution_count": 31,
     "metadata": {},
     "output_type": "execute_result"
    }
   ],
   "source": [
    "df = pd.read_csv(\"Journal.csv\")\n",
    "df.head()"
   ]
  },
  {
   "cell_type": "code",
   "execution_count": 20,
   "metadata": {},
   "outputs": [
    {
     "data": {
      "text/plain": [
       "Index(['journal_number', 'journal_number_prefix', 'journal_number_suffix',\n",
       "       'journal_date', 'tax_basis', 'status', 'journal_type',\n",
       "       'reference_number', 'notes', 'is_inclusive_tax', 'exchange_rate',\n",
       "       'branch_id', 'branch_name', 'item_order', 'tax_name', 'tax_percentage',\n",
       "       'tax_amount', 'tax_type', 'project_name', 'debit', 'credit', 'account',\n",
       "       'account_code', 'contact_name', 'currency', 'total', 'description'],\n",
       "      dtype='object')"
      ]
     },
     "execution_count": 20,
     "metadata": {},
     "output_type": "execute_result"
    }
   ],
   "source": [
    "df.columns = [x.lower().replace(\"#\",\"number\").replace(\" \",\"_\").replace(\"%\",\"\").replace(\".\",\"\") for x in df.columns]\n",
    "df.columns"
   ]
  },
  {
   "cell_type": "code",
   "execution_count": 21,
   "metadata": {},
   "outputs": [
    {
     "data": {
      "text/plain": [
       "journal_number             int64\n",
       "journal_number_prefix    float64\n",
       "journal_number_suffix      int64\n",
       "journal_date              object\n",
       "tax_basis                 object\n",
       "status                    object\n",
       "journal_type              object\n",
       "reference_number          object\n",
       "notes                     object\n",
       "is_inclusive_tax            bool\n",
       "exchange_rate            float64\n",
       "branch_id                float64\n",
       "branch_name               object\n",
       "item_order                 int64\n",
       "tax_name                 float64\n",
       "tax_percentage           float64\n",
       "tax_amount               float64\n",
       "tax_type                  object\n",
       "project_name             float64\n",
       "debit                    float64\n",
       "credit                   float64\n",
       "account                   object\n",
       "account_code               int64\n",
       "contact_name              object\n",
       "currency                  object\n",
       "total                    float64\n",
       "description               object\n",
       "dtype: object"
      ]
     },
     "execution_count": 21,
     "metadata": {},
     "output_type": "execute_result"
    }
   ],
   "source": [
    "df.dtypes"
   ]
  },
  {
   "cell_type": "code",
   "execution_count": 22,
   "metadata": {},
   "outputs": [
    {
     "data": {
      "text/plain": [
       "{'object': 'varchar',\n",
       " 'float64': 'float',\n",
       " 'int64': 'float',\n",
       " 'datetime64[ns]': 'varchar',\n",
       " 'datetime64': 'timestamp',\n",
       " 'bool': 'varchar'}"
      ]
     },
     "execution_count": 22,
     "metadata": {},
     "output_type": "execute_result"
    }
   ],
   "source": [
    "replacements = {\n",
    "    'object' : 'varchar',\n",
    "    'float64' : 'float',\n",
    "    'int64' : 'float',\n",
    "    'datetime64[ns]': 'varchar',\n",
    "    'datetime64': 'timestamp',\n",
    "    'bool' : 'varchar'\n",
    "}\n",
    "replacements"
   ]
  },
  {
   "cell_type": "code",
   "execution_count": 23,
   "metadata": {},
   "outputs": [
    {
     "data": {
      "text/plain": [
       "'journal_number float, journal_number_prefix float, journal_number_suffix float, journal_date varchar, tax_basis varchar, status varchar, journal_type varchar, reference_number varchar, notes varchar, is_inclusive_tax varchar, exchange_rate float, branch_id float, branch_name varchar, item_order float, tax_name float, tax_percentage float, tax_amount float, tax_type varchar, project_name float, debit float, credit float, account varchar, account_code float, contact_name varchar, currency varchar, total float, description varchar'"
      ]
     },
     "execution_count": 23,
     "metadata": {},
     "output_type": "execute_result"
    }
   ],
   "source": [
    "col_str = \", \".join(\"{} {}\".format(n, d) for (n, d) in zip(df.columns, df.dtypes.replace(replacements)))\n",
    "col_str"
   ]
  },
  {
   "cell_type": "code",
   "execution_count": 24,
   "metadata": {},
   "outputs": [
    {
     "name": "stdout",
     "output_type": "stream",
     "text": [
      "opened database successfully\n"
     ]
    }
   ],
   "source": [
    "conn_string = \"host= db.app.production.jetstreamafrica.com \\\n",
    "                dbname='jetstream-finance' \\\n",
    "                    user='ujetstreamfinance' password='Smehr5A7FGw4jEX@' \"\n",
    "\n",
    "conn = psycopg2.connect(conn_string)\n",
    "cursor = conn.cursor()\n",
    "\n",
    "print('opened database successfully')\n"
   ]
  },
  {
   "cell_type": "code",
   "execution_count": 25,
   "metadata": {},
   "outputs": [],
   "source": [
    "cursor.execute(\"drop table if exists journals;\")"
   ]
  },
  {
   "cell_type": "code",
   "execution_count": 26,
   "metadata": {},
   "outputs": [],
   "source": [
    "cursor.execute(\"create table journals \\\n",
    "    (journal_number float, journal_number_prefix float, journal_number_suffix float, journal_date varchar, tax_basis varchar, status varchar, journal_type varchar, reference_number varchar, notes varchar, is_inclusive_tax varchar, exchange_rate float, branch_id float, branch_name varchar, item_order float, tax_name float, tax_percentage float, tax_amount float, tax_type varchar, project_name float, debit float, credit float, account varchar, account_code float, contact_name varchar, currency varchar, total float, description varchar)\")"
   ]
  },
  {
   "cell_type": "code",
   "execution_count": 27,
   "metadata": {},
   "outputs": [
    {
     "name": "stdout",
     "output_type": "stream",
     "text": [
      "file opened in memory\n"
     ]
    }
   ],
   "source": [
    "#insert values to tables\n",
    "#save df to csv\n",
    "df.to_csv('journals', header=df.columns, index=False, encoding='utf-8')\n",
    "#open the csv file, save it as an object and upload to db\n",
    "my_file = open(\"journals\")\n",
    "print('file opened in memory')"
   ]
  },
  {
   "cell_type": "code",
   "execution_count": 28,
   "metadata": {},
   "outputs": [
    {
     "name": "stdout",
     "output_type": "stream",
     "text": [
      "file copied to db\n"
     ]
    }
   ],
   "source": [
    "SQL_STATEMENT = \"\"\"\n",
    "COPY journals FROM STDIN WITH\n",
    "   CSV\n",
    "   HEADER\n",
    "   DELIMITER AS ','\n",
    "\"\"\"\n",
    "cursor.copy_expert(sql = SQL_STATEMENT, file=my_file)\n",
    "print('file copied to db')"
   ]
  },
  {
   "cell_type": "code",
   "execution_count": 29,
   "metadata": {},
   "outputs": [
    {
     "name": "stdout",
     "output_type": "stream",
     "text": [
      "table journals made imported successfully\n"
     ]
    }
   ],
   "source": [
    "cursor.execute(\"grant select on table journals to public\")\n",
    "conn.commit()\n",
    "\n",
    "cursor.close()\n",
    "print('table journals made imported successfully')"
   ]
  }
 ],
 "metadata": {
  "kernelspec": {
   "display_name": "Python 3.10.8 64-bit",
   "language": "python",
   "name": "python3"
  },
  "language_info": {
   "codemirror_mode": {
    "name": "ipython",
    "version": 3
   },
   "file_extension": ".py",
   "mimetype": "text/x-python",
   "name": "python",
   "nbconvert_exporter": "python",
   "pygments_lexer": "ipython3",
   "version": "3.10.8"
  },
  "orig_nbformat": 4,
  "vscode": {
   "interpreter": {
    "hash": "7b76d6c75b1d56db4f5466d4f9891fa92c6d4201cfdc9a93c61b7dc467bac3ab"
   }
  }
 },
 "nbformat": 4,
 "nbformat_minor": 2
}
