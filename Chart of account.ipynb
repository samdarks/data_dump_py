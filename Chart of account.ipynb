{
 "cells": [
  {
   "cell_type": "code",
   "execution_count": 193,
   "metadata": {},
   "outputs": [],
   "source": [
    "import pandas as pd\n",
    "import  os\n",
    "import numpy as np\n",
    "import psycopg2\n",
    "import glob\n",
    "import openpyxl"
   ]
  },
  {
   "cell_type": "code",
   "execution_count": 211,
   "metadata": {},
   "outputs": [
    {
     "data": {
      "text/html": [
       "<div>\n",
       "<style scoped>\n",
       "    .dataframe tbody tr th:only-of-type {\n",
       "        vertical-align: middle;\n",
       "    }\n",
       "\n",
       "    .dataframe tbody tr th {\n",
       "        vertical-align: top;\n",
       "    }\n",
       "\n",
       "    .dataframe thead th {\n",
       "        text-align: right;\n",
       "    }\n",
       "</style>\n",
       "<table border=\"1\" class=\"dataframe\">\n",
       "  <thead>\n",
       "    <tr style=\"text-align: right;\">\n",
       "      <th></th>\n",
       "      <th>Account ID</th>\n",
       "      <th>Account Name</th>\n",
       "      <th>Account Code</th>\n",
       "      <th>Description</th>\n",
       "      <th>Account Type</th>\n",
       "      <th>Mileage Rate</th>\n",
       "      <th>Mileage Unit</th>\n",
       "      <th>IsMileage</th>\n",
       "      <th>Account #</th>\n",
       "      <th>Currency</th>\n",
       "      <th>Parent Account</th>\n",
       "    </tr>\n",
       "  </thead>\n",
       "  <tbody>\n",
       "    <tr>\n",
       "      <th>0</th>\n",
       "      <td>2620362000000010001</td>\n",
       "      <td>Other Charges</td>\n",
       "      <td>223500001.0</td>\n",
       "      <td>Miscellaneous charges like adjustments made to...</td>\n",
       "      <td>Income</td>\n",
       "      <td>0.0</td>\n",
       "      <td>NaN</td>\n",
       "      <td>False</td>\n",
       "      <td>NaN</td>\n",
       "      <td>GHS</td>\n",
       "      <td>NaN</td>\n",
       "    </tr>\n",
       "    <tr>\n",
       "      <th>1</th>\n",
       "      <td>2620362000000032023</td>\n",
       "      <td>Lodging</td>\n",
       "      <td>223400001.0</td>\n",
       "      <td>Any expense related to putting up at motels et...</td>\n",
       "      <td>Expense</td>\n",
       "      <td>0.0</td>\n",
       "      <td>NaN</td>\n",
       "      <td>False</td>\n",
       "      <td>NaN</td>\n",
       "      <td>GHS</td>\n",
       "      <td>NaN</td>\n",
       "    </tr>\n",
       "    <tr>\n",
       "      <th>2</th>\n",
       "      <td>2620362000000000358</td>\n",
       "      <td>Undeposited Funds</td>\n",
       "      <td>111000001.0</td>\n",
       "      <td>Record funds received by your company yet to b...</td>\n",
       "      <td>Cash</td>\n",
       "      <td>0.0</td>\n",
       "      <td>NaN</td>\n",
       "      <td>False</td>\n",
       "      <td>NaN</td>\n",
       "      <td>GHS</td>\n",
       "      <td>NaN</td>\n",
       "    </tr>\n",
       "    <tr>\n",
       "      <th>3</th>\n",
       "      <td>2620362000000000361</td>\n",
       "      <td>Petty Cash</td>\n",
       "      <td>111000002.0</td>\n",
       "      <td>It is a small amount of cash that is used to p...</td>\n",
       "      <td>Cash</td>\n",
       "      <td>0.0</td>\n",
       "      <td>NaN</td>\n",
       "      <td>False</td>\n",
       "      <td>NaN</td>\n",
       "      <td>GHS</td>\n",
       "      <td>Undeposited Funds</td>\n",
       "    </tr>\n",
       "    <tr>\n",
       "      <th>4</th>\n",
       "      <td>2620362000000078007</td>\n",
       "      <td>MTN Mobile Money</td>\n",
       "      <td>111000003.0</td>\n",
       "      <td>NaN</td>\n",
       "      <td>Cash</td>\n",
       "      <td>0.0</td>\n",
       "      <td>NaN</td>\n",
       "      <td>False</td>\n",
       "      <td>NaN</td>\n",
       "      <td>GHS</td>\n",
       "      <td>Undeposited Funds</td>\n",
       "    </tr>\n",
       "  </tbody>\n",
       "</table>\n",
       "</div>"
      ],
      "text/plain": [
       "            Account ID       Account Name  Account Code  \\\n",
       "0  2620362000000010001      Other Charges   223500001.0   \n",
       "1  2620362000000032023            Lodging   223400001.0   \n",
       "2  2620362000000000358  Undeposited Funds   111000001.0   \n",
       "3  2620362000000000361         Petty Cash   111000002.0   \n",
       "4  2620362000000078007   MTN Mobile Money   111000003.0   \n",
       "\n",
       "                                         Description Account Type  \\\n",
       "0  Miscellaneous charges like adjustments made to...       Income   \n",
       "1  Any expense related to putting up at motels et...      Expense   \n",
       "2  Record funds received by your company yet to b...         Cash   \n",
       "3  It is a small amount of cash that is used to p...         Cash   \n",
       "4                                                NaN         Cash   \n",
       "\n",
       "   Mileage Rate  Mileage Unit  IsMileage  Account # Currency  \\\n",
       "0           0.0           NaN      False        NaN      GHS   \n",
       "1           0.0           NaN      False        NaN      GHS   \n",
       "2           0.0           NaN      False        NaN      GHS   \n",
       "3           0.0           NaN      False        NaN      GHS   \n",
       "4           0.0           NaN      False        NaN      GHS   \n",
       "\n",
       "      Parent Account  \n",
       "0                NaN  \n",
       "1                NaN  \n",
       "2                NaN  \n",
       "3  Undeposited Funds  \n",
       "4  Undeposited Funds  "
      ]
     },
     "execution_count": 211,
     "metadata": {},
     "output_type": "execute_result"
    }
   ],
   "source": [
    "df = pd.read_excel(\"chart_of_Accounts.xlsx\")\n",
    "df.head()"
   ]
  },
  {
   "cell_type": "code",
   "execution_count": 212,
   "metadata": {},
   "outputs": [
    {
     "data": {
      "text/plain": [
       "Index(['account_id', 'account_name', 'account_code', 'description',\n",
       "       'account_type', 'mileage_rate', 'mileage_unit', 'ismileage',\n",
       "       'account_number', 'currency', 'parent_account'],\n",
       "      dtype='object')"
      ]
     },
     "execution_count": 212,
     "metadata": {},
     "output_type": "execute_result"
    }
   ],
   "source": [
    "df.columns = [x.lower().replace(\"#\",\"number\").replace(\" \",\"_\").replace(\"%\",\"\").replace(\".\",\"\") for x in df.columns]\n",
    "df.columns"
   ]
  },
  {
   "cell_type": "code",
   "execution_count": 213,
   "metadata": {},
   "outputs": [
    {
     "data": {
      "text/plain": [
       "account_id          int64\n",
       "account_name       object\n",
       "account_code      float64\n",
       "description        object\n",
       "account_type       object\n",
       "mileage_rate      float64\n",
       "mileage_unit      float64\n",
       "ismileage            bool\n",
       "account_number    float64\n",
       "currency           object\n",
       "parent_account     object\n",
       "dtype: object"
      ]
     },
     "execution_count": 213,
     "metadata": {},
     "output_type": "execute_result"
    }
   ],
   "source": [
    "df.dtypes"
   ]
  },
  {
   "cell_type": "code",
   "execution_count": 216,
   "metadata": {},
   "outputs": [
    {
     "data": {
      "text/plain": [
       "{'object': 'varchar',\n",
       " 'float64': 'float',\n",
       " 'int64': 'varchar',\n",
       " 'datetime64[ns]': 'varchar',\n",
       " 'datetime64': 'timestamp',\n",
       " 'bool': 'varchar'}"
      ]
     },
     "execution_count": 216,
     "metadata": {},
     "output_type": "execute_result"
    }
   ],
   "source": [
    "replacements = {\n",
    "    'object' : 'varchar',\n",
    "    'float64' : 'float',\n",
    "    'int64' : 'varchar',\n",
    "    'datetime64[ns]': 'varchar',\n",
    "    'datetime64': 'timestamp',\n",
    "    'bool' : 'varchar'\n",
    "}\n",
    "replacements"
   ]
  },
  {
   "cell_type": "code",
   "execution_count": 217,
   "metadata": {},
   "outputs": [
    {
     "data": {
      "text/plain": [
       "'account_id varchar, account_name varchar, account_code float, description varchar, account_type varchar, mileage_rate float, mileage_unit float, ismileage varchar, account_number float, currency varchar, parent_account varchar'"
      ]
     },
     "execution_count": 217,
     "metadata": {},
     "output_type": "execute_result"
    }
   ],
   "source": [
    "col_str = \", \".join(\"{} {}\".format(n, d) for (n, d) in zip(df.columns, df.dtypes.replace(replacements)))\n",
    "col_str"
   ]
  },
  {
   "cell_type": "code",
   "execution_count": 218,
   "metadata": {},
   "outputs": [
    {
     "name": "stdout",
     "output_type": "stream",
     "text": [
      "opened database successfully\n"
     ]
    }
   ],
   "source": [
    "conn_string = \"host= db.app.production.jetstreamafrica.com \\\n",
    "                dbname='jetstream-finance' \\\n",
    "                    user='ujetstreamfinance' password='Smehr5A7FGw4jEX@' \"\n",
    "\n",
    "conn = psycopg2.connect(conn_string)\n",
    "cursor = conn.cursor()\n",
    "\n",
    "print('opened database successfully')"
   ]
  },
  {
   "cell_type": "code",
   "execution_count": 219,
   "metadata": {},
   "outputs": [],
   "source": [
    "cursor.execute(\"drop table if exists account_details;\")"
   ]
  },
  {
   "cell_type": "code",
   "execution_count": 220,
   "metadata": {},
   "outputs": [],
   "source": [
    "cursor.execute(\"create table account_details \\\n",
    "    (account_id varchar, account_name varchar, account_code varchar, description varchar, account_type varchar, mileage_rate float, mileage_unit float, ismileage varchar, account_number varchar, currency varchar, parent_account varchar)\")"
   ]
  },
  {
   "cell_type": "code",
   "execution_count": 221,
   "metadata": {},
   "outputs": [
    {
     "name": "stdout",
     "output_type": "stream",
     "text": [
      "file opened in memory\n"
     ]
    }
   ],
   "source": [
    "#insert values to tables\n",
    "#save df to csv\n",
    "df.to_csv('account_details', header=df.columns, index=False, encoding='utf-8')\n",
    "#open the csv file, save it as an object and upload to db\n",
    "my_file = open(\"account_details\")\n",
    "print('file opened in memory')"
   ]
  },
  {
   "cell_type": "code",
   "execution_count": 222,
   "metadata": {},
   "outputs": [
    {
     "name": "stdout",
     "output_type": "stream",
     "text": [
      "file copied to db\n"
     ]
    }
   ],
   "source": [
    "SQL_STATEMENT = \"\"\"\n",
    "COPY account_details FROM STDIN WITH\n",
    "   CSV\n",
    "   HEADER\n",
    "   DELIMITER AS ','\n",
    "\"\"\"\n",
    "cursor.copy_expert(sql = SQL_STATEMENT, file=my_file)\n",
    "print('file copied to db')"
   ]
  },
  {
   "cell_type": "code",
   "execution_count": 223,
   "metadata": {},
   "outputs": [
    {
     "name": "stdout",
     "output_type": "stream",
     "text": [
      "table account_details imported successfully\n"
     ]
    }
   ],
   "source": [
    "cursor.execute(\"grant select on table account_details to public\")\n",
    "conn.commit()\n",
    "\n",
    "cursor.close()\n",
    "print('table account_details imported successfully')"
   ]
  }
 ],
 "metadata": {
  "kernelspec": {
   "display_name": "Python 3.10.8 64-bit",
   "language": "python",
   "name": "python3"
  },
  "language_info": {
   "codemirror_mode": {
    "name": "ipython",
    "version": 3
   },
   "file_extension": ".py",
   "mimetype": "text/x-python",
   "name": "python",
   "nbconvert_exporter": "python",
   "pygments_lexer": "ipython3",
   "version": "3.10.8"
  },
  "orig_nbformat": 4,
  "vscode": {
   "interpreter": {
    "hash": "7b76d6c75b1d56db4f5466d4f9891fa92c6d4201cfdc9a93c61b7dc467bac3ab"
   }
  }
 },
 "nbformat": 4,
 "nbformat_minor": 2
}
