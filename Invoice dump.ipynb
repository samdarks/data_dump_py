{
 "cells": [
  {
   "cell_type": "code",
   "execution_count": 8,
   "metadata": {},
   "outputs": [],
   "source": [
    "import pandas as pd\n",
    "import os\n",
    "import numpy as np\n",
    "import psycopg2\n",
    "import glob\n",
    "import openpyxl"
   ]
  },
  {
   "cell_type": "code",
   "execution_count": 9,
   "metadata": {},
   "outputs": [
    {
     "data": {
      "text/html": [
       "<div>\n",
       "<style scoped>\n",
       "    .dataframe tbody tr th:only-of-type {\n",
       "        vertical-align: middle;\n",
       "    }\n",
       "\n",
       "    .dataframe tbody tr th {\n",
       "        vertical-align: top;\n",
       "    }\n",
       "\n",
       "    .dataframe thead th {\n",
       "        text-align: right;\n",
       "    }\n",
       "</style>\n",
       "<table border=\"1\" class=\"dataframe\">\n",
       "  <thead>\n",
       "    <tr style=\"text-align: right;\">\n",
       "      <th></th>\n",
       "      <th>Invoice Date</th>\n",
       "      <th>Invoice ID</th>\n",
       "      <th>Invoice Number</th>\n",
       "      <th>Invoice Status</th>\n",
       "      <th>Customer ID</th>\n",
       "      <th>Customer Name</th>\n",
       "      <th>Is Inclusive Tax</th>\n",
       "      <th>Due Date</th>\n",
       "      <th>Currency Code</th>\n",
       "      <th>Exchange Rate</th>\n",
       "      <th>...</th>\n",
       "      <th>Tax ID</th>\n",
       "      <th>Item Tax</th>\n",
       "      <th>Item Tax Amount</th>\n",
       "      <th>Item Tax Type</th>\n",
       "      <th>CF.Origin Country</th>\n",
       "      <th>CF.Destination Country</th>\n",
       "      <th>CF.Cargo Value</th>\n",
       "      <th>CF.Shipment type</th>\n",
       "      <th>CF.Item Description</th>\n",
       "      <th>CF.Service type</th>\n",
       "    </tr>\n",
       "  </thead>\n",
       "  <tbody>\n",
       "    <tr>\n",
       "      <th>0</th>\n",
       "      <td>2021-01-05</td>\n",
       "      <td>2620362000001135101</td>\n",
       "      <td>INV-000302</td>\n",
       "      <td>Closed</td>\n",
       "      <td>2620362000000078039</td>\n",
       "      <td>VLEC Delivery Services - GHS</td>\n",
       "      <td>False</td>\n",
       "      <td>2021-01-05</td>\n",
       "      <td>GHS</td>\n",
       "      <td>1.000000</td>\n",
       "      <td>...</td>\n",
       "      <td>NaN</td>\n",
       "      <td>NaN</td>\n",
       "      <td>NaN</td>\n",
       "      <td>NaN</td>\n",
       "      <td>NaN</td>\n",
       "      <td>NaN</td>\n",
       "      <td>NaN</td>\n",
       "      <td>NaN</td>\n",
       "      <td>NaN</td>\n",
       "      <td>NaN</td>\n",
       "    </tr>\n",
       "    <tr>\n",
       "      <th>1</th>\n",
       "      <td>2021-01-08</td>\n",
       "      <td>2620362000001135131</td>\n",
       "      <td>INV-000305</td>\n",
       "      <td>Closed</td>\n",
       "      <td>2620362000000082027</td>\n",
       "      <td>Organic Pavillion - USD</td>\n",
       "      <td>False</td>\n",
       "      <td>2021-01-08</td>\n",
       "      <td>USD</td>\n",
       "      <td>5.860016</td>\n",
       "      <td>...</td>\n",
       "      <td>NaN</td>\n",
       "      <td>NaN</td>\n",
       "      <td>NaN</td>\n",
       "      <td>NaN</td>\n",
       "      <td>NaN</td>\n",
       "      <td>NaN</td>\n",
       "      <td>NaN</td>\n",
       "      <td>NaN</td>\n",
       "      <td>NaN</td>\n",
       "      <td>NaN</td>\n",
       "    </tr>\n",
       "    <tr>\n",
       "      <th>2</th>\n",
       "      <td>2021-01-11</td>\n",
       "      <td>2620362000001135145</td>\n",
       "      <td>INV-000312</td>\n",
       "      <td>Void</td>\n",
       "      <td>2620362000000082412</td>\n",
       "      <td>Hans &amp; Ezra - USD</td>\n",
       "      <td>False</td>\n",
       "      <td>2021-01-11</td>\n",
       "      <td>USD</td>\n",
       "      <td>5.859570</td>\n",
       "      <td>...</td>\n",
       "      <td>NaN</td>\n",
       "      <td>NaN</td>\n",
       "      <td>NaN</td>\n",
       "      <td>NaN</td>\n",
       "      <td>NaN</td>\n",
       "      <td>NaN</td>\n",
       "      <td>NaN</td>\n",
       "      <td>NaN</td>\n",
       "      <td>NaN</td>\n",
       "      <td>NaN</td>\n",
       "    </tr>\n",
       "    <tr>\n",
       "      <th>3</th>\n",
       "      <td>2021-01-11</td>\n",
       "      <td>2620362000001135145</td>\n",
       "      <td>INV-000312</td>\n",
       "      <td>Void</td>\n",
       "      <td>2620362000000082412</td>\n",
       "      <td>Hans &amp; Ezra - USD</td>\n",
       "      <td>False</td>\n",
       "      <td>2021-01-11</td>\n",
       "      <td>USD</td>\n",
       "      <td>5.859570</td>\n",
       "      <td>...</td>\n",
       "      <td>NaN</td>\n",
       "      <td>NaN</td>\n",
       "      <td>NaN</td>\n",
       "      <td>NaN</td>\n",
       "      <td>NaN</td>\n",
       "      <td>NaN</td>\n",
       "      <td>NaN</td>\n",
       "      <td>NaN</td>\n",
       "      <td>NaN</td>\n",
       "      <td>NaN</td>\n",
       "    </tr>\n",
       "    <tr>\n",
       "      <th>4</th>\n",
       "      <td>2021-01-11</td>\n",
       "      <td>2620362000001135145</td>\n",
       "      <td>INV-000312</td>\n",
       "      <td>Void</td>\n",
       "      <td>2620362000000082412</td>\n",
       "      <td>Hans &amp; Ezra - USD</td>\n",
       "      <td>False</td>\n",
       "      <td>2021-01-11</td>\n",
       "      <td>USD</td>\n",
       "      <td>5.859570</td>\n",
       "      <td>...</td>\n",
       "      <td>NaN</td>\n",
       "      <td>NaN</td>\n",
       "      <td>NaN</td>\n",
       "      <td>NaN</td>\n",
       "      <td>NaN</td>\n",
       "      <td>NaN</td>\n",
       "      <td>NaN</td>\n",
       "      <td>NaN</td>\n",
       "      <td>NaN</td>\n",
       "      <td>NaN</td>\n",
       "    </tr>\n",
       "  </tbody>\n",
       "</table>\n",
       "<p>5 rows × 57 columns</p>\n",
       "</div>"
      ],
      "text/plain": [
       "  Invoice Date           Invoice ID Invoice Number Invoice Status  \\\n",
       "0   2021-01-05  2620362000001135101     INV-000302         Closed   \n",
       "1   2021-01-08  2620362000001135131     INV-000305         Closed   \n",
       "2   2021-01-11  2620362000001135145     INV-000312           Void   \n",
       "3   2021-01-11  2620362000001135145     INV-000312           Void   \n",
       "4   2021-01-11  2620362000001135145     INV-000312           Void   \n",
       "\n",
       "           Customer ID                 Customer Name  Is Inclusive Tax  \\\n",
       "0  2620362000000078039  VLEC Delivery Services - GHS             False   \n",
       "1  2620362000000082027       Organic Pavillion - USD             False   \n",
       "2  2620362000000082412             Hans & Ezra - USD             False   \n",
       "3  2620362000000082412             Hans & Ezra - USD             False   \n",
       "4  2620362000000082412             Hans & Ezra - USD             False   \n",
       "\n",
       "     Due Date Currency Code  Exchange Rate  ... Tax ID  Item Tax  \\\n",
       "0  2021-01-05           GHS       1.000000  ...    NaN       NaN   \n",
       "1  2021-01-08           USD       5.860016  ...    NaN       NaN   \n",
       "2  2021-01-11           USD       5.859570  ...    NaN       NaN   \n",
       "3  2021-01-11           USD       5.859570  ...    NaN       NaN   \n",
       "4  2021-01-11           USD       5.859570  ...    NaN       NaN   \n",
       "\n",
       "  Item Tax Amount  Item Tax Type  CF.Origin Country  CF.Destination Country  \\\n",
       "0             NaN            NaN                NaN                     NaN   \n",
       "1             NaN            NaN                NaN                     NaN   \n",
       "2             NaN            NaN                NaN                     NaN   \n",
       "3             NaN            NaN                NaN                     NaN   \n",
       "4             NaN            NaN                NaN                     NaN   \n",
       "\n",
       "   CF.Cargo Value CF.Shipment type  CF.Item Description CF.Service type  \n",
       "0             NaN              NaN                  NaN             NaN  \n",
       "1             NaN              NaN                  NaN             NaN  \n",
       "2             NaN              NaN                  NaN             NaN  \n",
       "3             NaN              NaN                  NaN             NaN  \n",
       "4             NaN              NaN                  NaN             NaN  \n",
       "\n",
       "[5 rows x 57 columns]"
      ]
     },
     "execution_count": 9,
     "metadata": {},
     "output_type": "execute_result"
    }
   ],
   "source": [
    "df = pd.read_excel(\"Invoice.xlsx\")\n",
    "df.head()"
   ]
  },
  {
   "cell_type": "code",
   "execution_count": 10,
   "metadata": {},
   "outputs": [
    {
     "data": {
      "text/plain": [
       "Index(['invoice_date', 'invoice_id', 'invoice_number', 'invoice_status',\n",
       "       'customer_id', 'customer_name', 'is_inclusive_tax', 'due_date',\n",
       "       'currency_code', 'exchange_rate', 'discount_type',\n",
       "       'is_discount_before_tax', 'template_name', 'subtotal', 'total',\n",
       "       'balance', 'adjustment', 'adjustment_description',\n",
       "       'expected_payment_date', 'last_payment_date', 'payment_terms',\n",
       "       'payment_terms_label', 'notes', 'terms__conditions',\n",
       "       'entity_discount_amount', 'branch_id', 'branch_name', 'shipping_charge',\n",
       "       'item_name', 'item_desc', 'quantity', 'discount', 'discount_amount',\n",
       "       'item_total', 'usage_unit', 'product_id', 'sales_order_number',\n",
       "       'expense_reference_id', 'round_off', 'sales_person', 'subject',\n",
       "       'primary_contact_emailid', 'primary_contact_mobile',\n",
       "       'primary_contact_phone', 'estimate_number', 'account', 'account_code',\n",
       "       'tax_id', 'item_tax', 'item_tax_amount', 'item_tax_type',\n",
       "       'cforigin_country', 'cfdestination_country', 'cfcargo_value',\n",
       "       'cfshipment_type', 'cfitem_description', 'cfservice_type'],\n",
       "      dtype='object')"
      ]
     },
     "execution_count": 10,
     "metadata": {},
     "output_type": "execute_result"
    }
   ],
   "source": [
    "df.columns = [x.lower().replace(\" \",\"_\").replace(\"%\",\"\").replace(\"&\",\"\").replace(\".\",\"\") for x in df.columns]\n",
    "df.columns"
   ]
  },
  {
   "cell_type": "code",
   "execution_count": 11,
   "metadata": {},
   "outputs": [
    {
     "data": {
      "text/plain": [
       "invoice_date                object\n",
       "invoice_id                   int64\n",
       "invoice_number              object\n",
       "invoice_status              object\n",
       "customer_id                  int64\n",
       "customer_name               object\n",
       "is_inclusive_tax              bool\n",
       "due_date                    object\n",
       "currency_code               object\n",
       "exchange_rate              float64\n",
       "discount_type               object\n",
       "is_discount_before_tax        bool\n",
       "template_name               object\n",
       "subtotal                   float64\n",
       "total                      float64\n",
       "balance                    float64\n",
       "adjustment                   int64\n",
       "adjustment_description      object\n",
       "expected_payment_date      float64\n",
       "last_payment_date           object\n",
       "payment_terms                int64\n",
       "payment_terms_label         object\n",
       "notes                       object\n",
       "terms__conditions           object\n",
       "entity_discount_amount     float64\n",
       "branch_id                    int64\n",
       "branch_name                 object\n",
       "shipping_charge              int64\n",
       "item_name                   object\n",
       "item_desc                   object\n",
       "quantity                   float64\n",
       "discount                   float64\n",
       "discount_amount            float64\n",
       "item_total                 float64\n",
       "usage_unit                 float64\n",
       "product_id                 float64\n",
       "sales_order_number         float64\n",
       "expense_reference_id       float64\n",
       "round_off                  float64\n",
       "sales_person                object\n",
       "subject                     object\n",
       "primary_contact_emailid     object\n",
       "primary_contact_mobile      object\n",
       "primary_contact_phone       object\n",
       "estimate_number             object\n",
       "account                     object\n",
       "account_code                 int64\n",
       "tax_id                     float64\n",
       "item_tax                    object\n",
       "item_tax_amount            float64\n",
       "item_tax_type               object\n",
       "cforigin_country            object\n",
       "cfdestination_country       object\n",
       "cfcargo_value              float64\n",
       "cfshipment_type             object\n",
       "cfitem_description          object\n",
       "cfservice_type              object\n",
       "dtype: object"
      ]
     },
     "execution_count": 11,
     "metadata": {},
     "output_type": "execute_result"
    }
   ],
   "source": [
    "df.dtypes"
   ]
  },
  {
   "cell_type": "code",
   "execution_count": 12,
   "metadata": {},
   "outputs": [
    {
     "data": {
      "text/plain": [
       "{'object': 'varchar',\n",
       " 'float64': 'float',\n",
       " 'int64': 'varchar',\n",
       " 'datetime64[ns]': 'varchar',\n",
       " 'datetime64': 'timestamp',\n",
       " 'bool': 'varchar'}"
      ]
     },
     "execution_count": 12,
     "metadata": {},
     "output_type": "execute_result"
    }
   ],
   "source": [
    "replacements = {\n",
    "    'object' : 'varchar',\n",
    "    'float64' : 'float',\n",
    "    'int64' : 'varchar',\n",
    "    'datetime64[ns]': 'varchar',\n",
    "    'datetime64': 'timestamp',\n",
    "    'bool' : 'varchar'\n",
    "}\n",
    "replacements"
   ]
  },
  {
   "cell_type": "code",
   "execution_count": 13,
   "metadata": {},
   "outputs": [
    {
     "data": {
      "text/plain": [
       "'invoice_date varchar, invoice_id varchar, invoice_number varchar, invoice_status varchar, customer_id varchar, customer_name varchar, is_inclusive_tax varchar, due_date varchar, currency_code varchar, exchange_rate float, discount_type varchar, is_discount_before_tax varchar, template_name varchar, subtotal float, total float, balance float, adjustment varchar, adjustment_description varchar, expected_payment_date float, last_payment_date varchar, payment_terms varchar, payment_terms_label varchar, notes varchar, terms__conditions varchar, entity_discount_amount float, branch_id varchar, branch_name varchar, shipping_charge varchar, item_name varchar, item_desc varchar, quantity float, discount float, discount_amount float, item_total float, usage_unit float, product_id float, sales_order_number float, expense_reference_id float, round_off float, sales_person varchar, subject varchar, primary_contact_emailid varchar, primary_contact_mobile varchar, primary_contact_phone varchar, estimate_number varchar, account varchar, account_code varchar, tax_id float, item_tax varchar, item_tax_amount float, item_tax_type varchar, cforigin_country varchar, cfdestination_country varchar, cfcargo_value float, cfshipment_type varchar, cfitem_description varchar, cfservice_type varchar'"
      ]
     },
     "execution_count": 13,
     "metadata": {},
     "output_type": "execute_result"
    }
   ],
   "source": [
    "col_str = \", \".join(\"{} {}\".format(n, d) for (n, d) in zip(df.columns, df.dtypes.replace(replacements)))\n",
    "col_str"
   ]
  },
  {
   "cell_type": "code",
   "execution_count": 33,
   "metadata": {},
   "outputs": [
    {
     "name": "stdout",
     "output_type": "stream",
     "text": [
      "opened database successfully\n"
     ]
    }
   ],
   "source": [
    "#open database connection\n",
    "\n",
    "\n",
    "conn_string = \"host= db.app.production.jetstreamafrica.com \\\n",
    "                dbname='jetstream-finance' \\\n",
    "                    user='ujetstreamfinance' password='Smehr5A7FGw4jEX@' \"\n",
    "\n",
    "conn = psycopg2.connect(conn_string)\n",
    "cursor = conn.cursor()\n",
    "\n",
    "print('opened database successfully')"
   ]
  },
  {
   "cell_type": "code",
   "execution_count": 34,
   "metadata": {},
   "outputs": [],
   "source": [
    "cursor.execute(\"drop table if exists Invoices;\")"
   ]
  },
  {
   "cell_type": "code",
   "execution_count": 35,
   "metadata": {},
   "outputs": [],
   "source": [
    "cursor.execute(\"create table Invoices \\\n",
    "    (invoice_date date, invoice_id varchar, invoice_number varchar, invoice_status varchar, customer_id varchar, customer_name varchar, is_inclusive_tax varchar, due_date date, currency_code varchar, exchange_rate float, discount_type varchar, is_discount_before_tax varchar, template_name varchar, subtotal float, total float, balance float, adjustment varchar, adjustment_description varchar, expected_payment_date date, last_payment_date date, payment_terms varchar, payment_terms_label varchar, notes varchar, terms__conditions varchar, entity_discount_amount float, branch_id varchar, branch_name varchar, shipping_charge varchar, item_name varchar, item_desc varchar, quantity float, discount float, discount_amount float, item_total float, usage_unit float, product_id float, sales_order_number float, expense_reference_id float, round_off float, sales_person varchar, subject varchar, primary_contact_emailid varchar, primary_contact_mobile varchar, primary_contact_phone varchar, estimate_number varchar, account varchar, account_code varchar, tax_id float, item_tax varchar, item_tax_amount float, item_tax_type varchar, cforigin_country varchar, cfdestination_country varchar, cfcargo_value float, cfshipment_type varchar, cfitem_description varchar, cfservice_type varchar)\")"
   ]
  },
  {
   "cell_type": "code",
   "execution_count": 36,
   "metadata": {},
   "outputs": [
    {
     "name": "stdout",
     "output_type": "stream",
     "text": [
      "file opened in memory\n"
     ]
    }
   ],
   "source": [
    "#insert values to tables\n",
    "#save df to csv\n",
    "df.to_csv('Invoices', header=df.columns, index=False, encoding='utf-8')\n",
    "#open the csv file, save it as an object and upload to db\n",
    "my_file = open(\"Invoices\")\n",
    "print('file opened in memory')"
   ]
  },
  {
   "cell_type": "code",
   "execution_count": 38,
   "metadata": {},
   "outputs": [
    {
     "name": "stdout",
     "output_type": "stream",
     "text": [
      "file copied to db\n"
     ]
    }
   ],
   "source": [
    "SQL_STATEMENT = \"\"\"\n",
    "COPY Invoices FROM STDIN WITH\n",
    "   CSV\n",
    "   HEADER\n",
    "   DELIMITER AS ','\n",
    "\"\"\"\n",
    "cursor.copy_expert(sql = SQL_STATEMENT, file=my_file)\n",
    "print('file copied to db')"
   ]
  },
  {
   "cell_type": "code",
   "execution_count": 39,
   "metadata": {},
   "outputs": [
    {
     "name": "stdout",
     "output_type": "stream",
     "text": [
      "table invoices made imported successfully\n"
     ]
    }
   ],
   "source": [
    "cursor.execute(\"grant select on table Invoices to public\")\n",
    "conn.commit()\n",
    "\n",
    "cursor.close()\n",
    "print('table invoices made imported successfully')"
   ]
  }
 ],
 "metadata": {
  "kernelspec": {
   "display_name": "Python 3.10.8 64-bit",
   "language": "python",
   "name": "python3"
  },
  "language_info": {
   "codemirror_mode": {
    "name": "ipython",
    "version": 3
   },
   "file_extension": ".py",
   "mimetype": "text/x-python",
   "name": "python",
   "nbconvert_exporter": "python",
   "pygments_lexer": "ipython3",
   "version": "3.10.8"
  },
  "orig_nbformat": 4,
  "vscode": {
   "interpreter": {
    "hash": "7b76d6c75b1d56db4f5466d4f9891fa92c6d4201cfdc9a93c61b7dc467bac3ab"
   }
  }
 },
 "nbformat": 4,
 "nbformat_minor": 2
}
