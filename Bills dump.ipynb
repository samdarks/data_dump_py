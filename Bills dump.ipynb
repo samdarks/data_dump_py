{
 "cells": [
  {
   "cell_type": "code",
   "execution_count": 1,
   "metadata": {},
   "outputs": [],
   "source": [
    "import pandas as pd\n",
    "import  os\n",
    "import numpy as np\n",
    "import psycopg2\n",
    "import glob\n",
    "import openpyxl"
   ]
  },
  {
   "cell_type": "code",
   "execution_count": 3,
   "metadata": {},
   "outputs": [
    {
     "data": {
      "text/html": [
       "<div>\n",
       "<style scoped>\n",
       "    .dataframe tbody tr th:only-of-type {\n",
       "        vertical-align: middle;\n",
       "    }\n",
       "\n",
       "    .dataframe tbody tr th {\n",
       "        vertical-align: top;\n",
       "    }\n",
       "\n",
       "    .dataframe thead th {\n",
       "        text-align: right;\n",
       "    }\n",
       "</style>\n",
       "<table border=\"1\" class=\"dataframe\">\n",
       "  <thead>\n",
       "    <tr style=\"text-align: right;\">\n",
       "      <th></th>\n",
       "      <th>Bill Date</th>\n",
       "      <th>Due Date</th>\n",
       "      <th>Bill ID</th>\n",
       "      <th>Vendor Name</th>\n",
       "      <th>Payment Terms</th>\n",
       "      <th>Payment Terms Label</th>\n",
       "      <th>Bill Number</th>\n",
       "      <th>PurchaseOrder</th>\n",
       "      <th>Currency Code</th>\n",
       "      <th>Exchange Rate</th>\n",
       "      <th>...</th>\n",
       "      <th>Item Total</th>\n",
       "      <th>Is Billable</th>\n",
       "      <th>Rate</th>\n",
       "      <th>Purchase Order Number</th>\n",
       "      <th>Tax ID</th>\n",
       "      <th>Tax Name</th>\n",
       "      <th>Tax Percentage</th>\n",
       "      <th>Tax Type</th>\n",
       "      <th>Customer Name</th>\n",
       "      <th>CF.Customer Invoice #</th>\n",
       "    </tr>\n",
       "  </thead>\n",
       "  <tbody>\n",
       "    <tr>\n",
       "      <th>0</th>\n",
       "      <td>2021-02-25</td>\n",
       "      <td>2021-02-25</td>\n",
       "      <td>2620362000001249811</td>\n",
       "      <td>First Manpower - GHS</td>\n",
       "      <td>0</td>\n",
       "      <td>Due on Receipt</td>\n",
       "      <td>GHAFM-202102-02018</td>\n",
       "      <td>NaN</td>\n",
       "      <td>GHS</td>\n",
       "      <td>1.0</td>\n",
       "      <td>...</td>\n",
       "      <td>15975.72</td>\n",
       "      <td>False</td>\n",
       "      <td>15975.72</td>\n",
       "      <td>NaN</td>\n",
       "      <td>NaN</td>\n",
       "      <td>NaN</td>\n",
       "      <td>NaN</td>\n",
       "      <td>NaN</td>\n",
       "      <td>NaN</td>\n",
       "      <td>GHAFM-202102-02018</td>\n",
       "    </tr>\n",
       "    <tr>\n",
       "      <th>1</th>\n",
       "      <td>2021-07-01</td>\n",
       "      <td>2021-07-01</td>\n",
       "      <td>2620362000001249827</td>\n",
       "      <td>MSC - GHS</td>\n",
       "      <td>0</td>\n",
       "      <td>NaN</td>\n",
       "      <td>PILIN333072021MSG</td>\n",
       "      <td>INV-000495</td>\n",
       "      <td>GHS</td>\n",
       "      <td>1.0</td>\n",
       "      <td>...</td>\n",
       "      <td>3637.10</td>\n",
       "      <td>False</td>\n",
       "      <td>3637.10</td>\n",
       "      <td>NaN</td>\n",
       "      <td>NaN</td>\n",
       "      <td>NaN</td>\n",
       "      <td>NaN</td>\n",
       "      <td>NaN</td>\n",
       "      <td>NaN</td>\n",
       "      <td>INV-000495</td>\n",
       "    </tr>\n",
       "    <tr>\n",
       "      <th>2</th>\n",
       "      <td>2021-07-01</td>\n",
       "      <td>2021-07-01</td>\n",
       "      <td>2620362000001249843</td>\n",
       "      <td>Michael Quartey Transport Service - GHS</td>\n",
       "      <td>0</td>\n",
       "      <td>NaN</td>\n",
       "      <td>MQTS0630</td>\n",
       "      <td>INV-000496</td>\n",
       "      <td>GHS</td>\n",
       "      <td>1.0</td>\n",
       "      <td>...</td>\n",
       "      <td>1600.00</td>\n",
       "      <td>False</td>\n",
       "      <td>1600.00</td>\n",
       "      <td>NaN</td>\n",
       "      <td>NaN</td>\n",
       "      <td>NaN</td>\n",
       "      <td>NaN</td>\n",
       "      <td>NaN</td>\n",
       "      <td>NaN</td>\n",
       "      <td>INV-000496</td>\n",
       "    </tr>\n",
       "    <tr>\n",
       "      <th>3</th>\n",
       "      <td>2021-07-02</td>\n",
       "      <td>2021-07-02</td>\n",
       "      <td>2620362000001249859</td>\n",
       "      <td>Ghana Revenue Authority - GHS</td>\n",
       "      <td>0</td>\n",
       "      <td>NaN</td>\n",
       "      <td>TMA1-L-2021-0219665</td>\n",
       "      <td>INV-000496</td>\n",
       "      <td>GHS</td>\n",
       "      <td>1.0</td>\n",
       "      <td>...</td>\n",
       "      <td>10.00</td>\n",
       "      <td>False</td>\n",
       "      <td>10.00</td>\n",
       "      <td>NaN</td>\n",
       "      <td>NaN</td>\n",
       "      <td>NaN</td>\n",
       "      <td>NaN</td>\n",
       "      <td>NaN</td>\n",
       "      <td>NaN</td>\n",
       "      <td>INV-000496</td>\n",
       "    </tr>\n",
       "    <tr>\n",
       "      <th>4</th>\n",
       "      <td>2021-06-26</td>\n",
       "      <td>2021-06-26</td>\n",
       "      <td>2620362000001249875</td>\n",
       "      <td>Michael Quartey Transport Service - GHS</td>\n",
       "      <td>0</td>\n",
       "      <td>NaN</td>\n",
       "      <td>MQTS0626</td>\n",
       "      <td>INV-JSA000002</td>\n",
       "      <td>GHS</td>\n",
       "      <td>1.0</td>\n",
       "      <td>...</td>\n",
       "      <td>9200.00</td>\n",
       "      <td>False</td>\n",
       "      <td>9200.00</td>\n",
       "      <td>NaN</td>\n",
       "      <td>NaN</td>\n",
       "      <td>NaN</td>\n",
       "      <td>NaN</td>\n",
       "      <td>NaN</td>\n",
       "      <td>NaN</td>\n",
       "      <td>INV-JSA000002</td>\n",
       "    </tr>\n",
       "  </tbody>\n",
       "</table>\n",
       "<p>5 rows × 36 columns</p>\n",
       "</div>"
      ],
      "text/plain": [
       "    Bill Date    Due Date              Bill ID  \\\n",
       "0  2021-02-25  2021-02-25  2620362000001249811   \n",
       "1  2021-07-01  2021-07-01  2620362000001249827   \n",
       "2  2021-07-01  2021-07-01  2620362000001249843   \n",
       "3  2021-07-02  2021-07-02  2620362000001249859   \n",
       "4  2021-06-26  2021-06-26  2620362000001249875   \n",
       "\n",
       "                               Vendor Name  Payment Terms Payment Terms Label  \\\n",
       "0                     First Manpower - GHS              0      Due on Receipt   \n",
       "1                                MSC - GHS              0                 NaN   \n",
       "2  Michael Quartey Transport Service - GHS              0                 NaN   \n",
       "3            Ghana Revenue Authority - GHS              0                 NaN   \n",
       "4  Michael Quartey Transport Service - GHS              0                 NaN   \n",
       "\n",
       "           Bill Number  PurchaseOrder Currency Code  Exchange Rate  ...  \\\n",
       "0   GHAFM-202102-02018            NaN           GHS            1.0  ...   \n",
       "1    PILIN333072021MSG     INV-000495           GHS            1.0  ...   \n",
       "2             MQTS0630     INV-000496           GHS            1.0  ...   \n",
       "3  TMA1-L-2021-0219665     INV-000496           GHS            1.0  ...   \n",
       "4             MQTS0626  INV-JSA000002           GHS            1.0  ...   \n",
       "\n",
       "   Item Total  Is Billable      Rate Purchase Order Number  Tax ID Tax Name  \\\n",
       "0    15975.72        False  15975.72                   NaN     NaN      NaN   \n",
       "1     3637.10        False   3637.10                   NaN     NaN      NaN   \n",
       "2     1600.00        False   1600.00                   NaN     NaN      NaN   \n",
       "3       10.00        False     10.00                   NaN     NaN      NaN   \n",
       "4     9200.00        False   9200.00                   NaN     NaN      NaN   \n",
       "\n",
       "   Tax Percentage Tax Type  Customer Name CF.Customer Invoice #  \n",
       "0             NaN      NaN            NaN    GHAFM-202102-02018  \n",
       "1             NaN      NaN            NaN            INV-000495  \n",
       "2             NaN      NaN            NaN            INV-000496  \n",
       "3             NaN      NaN            NaN            INV-000496  \n",
       "4             NaN      NaN            NaN         INV-JSA000002  \n",
       "\n",
       "[5 rows x 36 columns]"
      ]
     },
     "execution_count": 3,
     "metadata": {},
     "output_type": "execute_result"
    }
   ],
   "source": [
    "df = pd.read_excel(\"Bill.xlsx\")\n",
    "df.head()"
   ]
  },
  {
   "cell_type": "code",
   "execution_count": 5,
   "metadata": {},
   "outputs": [
    {
     "data": {
      "text/plain": [
       "Index(['bill_date', 'due_date', 'bill_id', 'vendor_name', 'payment_terms',\n",
       "       'payment_terms_label', 'bill_number', 'purchaseorder', 'currency_code',\n",
       "       'exchange_rate', 'subtotal', 'total', 'balance', 'vendor_notes',\n",
       "       'adjustment', 'adjustment_description', 'branch_id', 'branch_name',\n",
       "       'is_inclusive_tax', 'bill_status', 'item_name', 'account',\n",
       "       'account_code', 'description', 'quantity', 'tax_amount', 'item_total',\n",
       "       'is_billable', 'rate', 'purchase_order_number', 'tax_id', 'tax_name',\n",
       "       'tax_percentage', 'tax_type', 'customer_name', 'cfcustomer_invoice_'],\n",
       "      dtype='object')"
      ]
     },
     "execution_count": 5,
     "metadata": {},
     "output_type": "execute_result"
    }
   ],
   "source": [
    "df.columns = [x.lower().replace(\" \",\"_\").replace(\"%\",\"\").replace(\"&\",\"\").replace(\".\",\"\").replace(\"#\",\"\") for x in df.columns]\n",
    "df.columns"
   ]
  },
  {
   "cell_type": "code",
   "execution_count": 6,
   "metadata": {},
   "outputs": [
    {
     "data": {
      "text/plain": [
       "bill_date                  object\n",
       "due_date                   object\n",
       "bill_id                     int64\n",
       "vendor_name                object\n",
       "payment_terms               int64\n",
       "payment_terms_label        object\n",
       "bill_number                object\n",
       "purchaseorder              object\n",
       "currency_code              object\n",
       "exchange_rate             float64\n",
       "subtotal                  float64\n",
       "total                     float64\n",
       "balance                   float64\n",
       "vendor_notes               object\n",
       "adjustment                  int64\n",
       "adjustment_description     object\n",
       "branch_id                   int64\n",
       "branch_name                object\n",
       "is_inclusive_tax             bool\n",
       "bill_status                object\n",
       "item_name                  object\n",
       "account                    object\n",
       "account_code                int64\n",
       "description                object\n",
       "quantity                    int64\n",
       "tax_amount                float64\n",
       "item_total                float64\n",
       "is_billable                  bool\n",
       "rate                      float64\n",
       "purchase_order_number      object\n",
       "tax_id                    float64\n",
       "tax_name                   object\n",
       "tax_percentage            float64\n",
       "tax_type                   object\n",
       "customer_name             float64\n",
       "cfcustomer_invoice_        object\n",
       "dtype: object"
      ]
     },
     "execution_count": 6,
     "metadata": {},
     "output_type": "execute_result"
    }
   ],
   "source": [
    "df.dtypes"
   ]
  },
  {
   "cell_type": "code",
   "execution_count": 7,
   "metadata": {},
   "outputs": [
    {
     "data": {
      "text/plain": [
       "{'object': 'varchar',\n",
       " 'float64': 'float',\n",
       " 'int64': 'float',\n",
       " 'datetime64[ns]': 'varchar',\n",
       " 'datetime64': 'timestamp',\n",
       " 'bool': 'varchar'}"
      ]
     },
     "execution_count": 7,
     "metadata": {},
     "output_type": "execute_result"
    }
   ],
   "source": [
    "replacements = {\n",
    "    'object' : 'varchar',\n",
    "    'float64' : 'float',\n",
    "    'int64' : 'float',\n",
    "    'datetime64[ns]': 'varchar',\n",
    "    'datetime64': 'timestamp',\n",
    "    'bool' : 'varchar'\n",
    "}\n",
    "replacements"
   ]
  },
  {
   "cell_type": "code",
   "execution_count": 8,
   "metadata": {},
   "outputs": [
    {
     "data": {
      "text/plain": [
       "'bill_date varchar, due_date varchar, bill_id float, vendor_name varchar, payment_terms float, payment_terms_label varchar, bill_number varchar, purchaseorder varchar, currency_code varchar, exchange_rate float, subtotal float, total float, balance float, vendor_notes varchar, adjustment float, adjustment_description varchar, branch_id float, branch_name varchar, is_inclusive_tax varchar, bill_status varchar, item_name varchar, account varchar, account_code float, description varchar, quantity float, tax_amount float, item_total float, is_billable varchar, rate float, purchase_order_number varchar, tax_id float, tax_name varchar, tax_percentage float, tax_type varchar, customer_name float, cfcustomer_invoice_ varchar'"
      ]
     },
     "execution_count": 8,
     "metadata": {},
     "output_type": "execute_result"
    }
   ],
   "source": [
    "col_str = \", \".join(\"{} {}\".format(n, d) for (n, d) in zip(df.columns, df.dtypes.replace(replacements)))\n",
    "col_str"
   ]
  },
  {
   "cell_type": "code",
   "execution_count": 16,
   "metadata": {},
   "outputs": [
    {
     "name": "stdout",
     "output_type": "stream",
     "text": [
      "opened database successfully\n"
     ]
    }
   ],
   "source": [
    "conn_string = \"host= db.app.production.jetstreamafrica.com \\\n",
    "                dbname='jetstream-finance' \\\n",
    "                    user='ujetstreamfinance' password='Smehr5A7FGw4jEX@' \"\n",
    "\n",
    "conn = psycopg2.connect(conn_string)\n",
    "cursor = conn.cursor()\n",
    "\n",
    "print('opened database successfully')"
   ]
  },
  {
   "cell_type": "code",
   "execution_count": 17,
   "metadata": {},
   "outputs": [],
   "source": [
    "cursor.execute(\"drop table if exists Bills;\")"
   ]
  },
  {
   "cell_type": "code",
   "execution_count": 18,
   "metadata": {},
   "outputs": [],
   "source": [
    "cursor.execute(\"create table Bills \\\n",
    "    (bill_date varchar, due_date varchar, bill_id float, vendor_name varchar, payment_terms float, payment_terms_label varchar, bill_number varchar, purchaseorder varchar, currency_code varchar, exchange_rate float, subtotal float, total float, balance float, vendor_notes varchar, adjustment float, adjustment_description varchar, branch_id float, branch_name varchar, is_inclusive_tax varchar, bill_status varchar, item_name varchar, account varchar, account_code float, description varchar, quantity float, tax_amount float, item_total float, is_billable varchar, rate float, purchase_order_number varchar, tax_id float, tax_name varchar, tax_percentage float, tax_type varchar, customer_name float, cfcustomer_invoice_ varchar)\")"
   ]
  },
  {
   "cell_type": "code",
   "execution_count": 19,
   "metadata": {},
   "outputs": [
    {
     "name": "stdout",
     "output_type": "stream",
     "text": [
      "file opened in memory\n"
     ]
    }
   ],
   "source": [
    "df.to_csv('Bills', header=df.columns, index=False, encoding='utf-8')\n",
    "my_file = open(\"Bills\")\n",
    "print('file opened in memory')"
   ]
  },
  {
   "cell_type": "code",
   "execution_count": 20,
   "metadata": {},
   "outputs": [
    {
     "name": "stdout",
     "output_type": "stream",
     "text": [
      "file copied to db\n"
     ]
    }
   ],
   "source": [
    "SQL_STATEMENT = \"\"\"\n",
    "COPY Bills FROM STDIN WITH\n",
    "   CSV\n",
    "   HEADER\n",
    "   DELIMITER AS ','\n",
    "\"\"\"\n",
    "cursor.copy_expert(sql = SQL_STATEMENT, file=my_file)\n",
    "print('file copied to db')"
   ]
  },
  {
   "cell_type": "code",
   "execution_count": 21,
   "metadata": {},
   "outputs": [
    {
     "name": "stdout",
     "output_type": "stream",
     "text": [
      "table payment made imported successfully\n"
     ]
    }
   ],
   "source": [
    "cursor.execute(\"grant select on table Payment_made to public\")\n",
    "conn.commit()\n",
    "\n",
    "cursor.close()\n",
    "print('table payment made imported successfully')"
   ]
  }
 ],
 "metadata": {
  "kernelspec": {
   "display_name": "Python 3.10.8 64-bit",
   "language": "python",
   "name": "python3"
  },
  "language_info": {
   "codemirror_mode": {
    "name": "ipython",
    "version": 3
   },
   "file_extension": ".py",
   "mimetype": "text/x-python",
   "name": "python",
   "nbconvert_exporter": "python",
   "pygments_lexer": "ipython3",
   "version": "3.10.8"
  },
  "orig_nbformat": 4,
  "vscode": {
   "interpreter": {
    "hash": "7b76d6c75b1d56db4f5466d4f9891fa92c6d4201cfdc9a93c61b7dc467bac3ab"
   }
  }
 },
 "nbformat": 4,
 "nbformat_minor": 2
}
