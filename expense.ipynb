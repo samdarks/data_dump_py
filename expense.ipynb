{
 "cells": [
  {
   "cell_type": "code",
   "execution_count": 37,
   "metadata": {},
   "outputs": [],
   "source": [
    "import pandas as pd\n",
    "import  os\n",
    "import numpy as np\n",
    "import psycopg2\n",
    "import glob\n",
    "import openpyxl"
   ]
  },
  {
   "cell_type": "code",
   "execution_count": 38,
   "metadata": {},
   "outputs": [
    {
     "data": {
      "text/html": [
       "<div>\n",
       "<style scoped>\n",
       "    .dataframe tbody tr th:only-of-type {\n",
       "        vertical-align: middle;\n",
       "    }\n",
       "\n",
       "    .dataframe tbody tr th {\n",
       "        vertical-align: top;\n",
       "    }\n",
       "\n",
       "    .dataframe thead th {\n",
       "        text-align: right;\n",
       "    }\n",
       "</style>\n",
       "<table border=\"1\" class=\"dataframe\">\n",
       "  <thead>\n",
       "    <tr style=\"text-align: right;\">\n",
       "      <th></th>\n",
       "      <th>Expense Date</th>\n",
       "      <th>Expense Description</th>\n",
       "      <th>Expense Account</th>\n",
       "      <th>Expense Account Code</th>\n",
       "      <th>Paid Through</th>\n",
       "      <th>Paid Through Account Code</th>\n",
       "      <th>Vendor</th>\n",
       "      <th>Branch Name</th>\n",
       "      <th>Project Name</th>\n",
       "      <th>Entry Number</th>\n",
       "      <th>...</th>\n",
       "      <th>Tax Amount</th>\n",
       "      <th>Expense Amount</th>\n",
       "      <th>Total</th>\n",
       "      <th>Reference#</th>\n",
       "      <th>Is Billable</th>\n",
       "      <th>Customer Name</th>\n",
       "      <th>Expense Reference ID</th>\n",
       "      <th>Recurrence Name</th>\n",
       "      <th>ExpenseReport Name</th>\n",
       "      <th>Is Reimbursable</th>\n",
       "    </tr>\n",
       "  </thead>\n",
       "  <tbody>\n",
       "    <tr>\n",
       "      <th>0</th>\n",
       "      <td>2021-01-15</td>\n",
       "      <td>Exchange Gain or Loss</td>\n",
       "      <td>Other Expenses</td>\n",
       "      <td>223500005</td>\n",
       "      <td>MTN Mobile Money</td>\n",
       "      <td>111000003</td>\n",
       "      <td>NaN</td>\n",
       "      <td>Jetstream Africa</td>\n",
       "      <td>NaN</td>\n",
       "      <td>1</td>\n",
       "      <td>...</td>\n",
       "      <td>0.0</td>\n",
       "      <td>31.75</td>\n",
       "      <td>31.75</td>\n",
       "      <td>TID11003228620</td>\n",
       "      <td>False</td>\n",
       "      <td>NaN</td>\n",
       "      <td>2620362000000088608</td>\n",
       "      <td>NaN</td>\n",
       "      <td>NaN</td>\n",
       "      <td>False</td>\n",
       "    </tr>\n",
       "    <tr>\n",
       "      <th>1</th>\n",
       "      <td>2021-01-14</td>\n",
       "      <td>Exchange Gain or Loss</td>\n",
       "      <td>Other Expenses</td>\n",
       "      <td>223500005</td>\n",
       "      <td>MTN Mobile Money</td>\n",
       "      <td>111000003</td>\n",
       "      <td>NaN</td>\n",
       "      <td>Jetstream Africa</td>\n",
       "      <td>NaN</td>\n",
       "      <td>2</td>\n",
       "      <td>...</td>\n",
       "      <td>0.0</td>\n",
       "      <td>631.90</td>\n",
       "      <td>631.90</td>\n",
       "      <td>INV-000317</td>\n",
       "      <td>False</td>\n",
       "      <td>NaN</td>\n",
       "      <td>2620362000000088688</td>\n",
       "      <td>NaN</td>\n",
       "      <td>NaN</td>\n",
       "      <td>False</td>\n",
       "    </tr>\n",
       "    <tr>\n",
       "      <th>2</th>\n",
       "      <td>2021-01-14</td>\n",
       "      <td>Exchange Gain / Loss</td>\n",
       "      <td>Other Expenses</td>\n",
       "      <td>223500005</td>\n",
       "      <td>Petty Cash</td>\n",
       "      <td>111000002</td>\n",
       "      <td>NaN</td>\n",
       "      <td>Jetstream Africa</td>\n",
       "      <td>NaN</td>\n",
       "      <td>3</td>\n",
       "      <td>...</td>\n",
       "      <td>0.0</td>\n",
       "      <td>0.02</td>\n",
       "      <td>0.02</td>\n",
       "      <td>Eculine - UK</td>\n",
       "      <td>False</td>\n",
       "      <td>NaN</td>\n",
       "      <td>2620362000000090547</td>\n",
       "      <td>NaN</td>\n",
       "      <td>NaN</td>\n",
       "      <td>False</td>\n",
       "    </tr>\n",
       "    <tr>\n",
       "      <th>3</th>\n",
       "      <td>2021-07-09</td>\n",
       "      <td>FEE- EBANKING ACH OUTWARD: Tran ID-S237127</td>\n",
       "      <td>Bank Fees and Charges</td>\n",
       "      <td>223200001</td>\n",
       "      <td>Stanbic - GHS</td>\n",
       "      <td>111000007</td>\n",
       "      <td>NaN</td>\n",
       "      <td>Jetstream Africa</td>\n",
       "      <td>NaN</td>\n",
       "      <td>21</td>\n",
       "      <td>...</td>\n",
       "      <td>0.0</td>\n",
       "      <td>2.50</td>\n",
       "      <td>2.50</td>\n",
       "      <td>NaN</td>\n",
       "      <td>False</td>\n",
       "      <td>NaN</td>\n",
       "      <td>2620362000000135186</td>\n",
       "      <td>NaN</td>\n",
       "      <td>NaN</td>\n",
       "      <td>False</td>\n",
       "    </tr>\n",
       "    <tr>\n",
       "      <th>4</th>\n",
       "      <td>2021-07-19</td>\n",
       "      <td>FEE RTGS 000001750708 JETSTREAM AFRICA ECOBANK</td>\n",
       "      <td>Bank Fees and Charges</td>\n",
       "      <td>223200001</td>\n",
       "      <td>Stanbic - GHS</td>\n",
       "      <td>111000007</td>\n",
       "      <td>NaN</td>\n",
       "      <td>Jetstream Africa</td>\n",
       "      <td>NaN</td>\n",
       "      <td>22</td>\n",
       "      <td>...</td>\n",
       "      <td>0.0</td>\n",
       "      <td>30.00</td>\n",
       "      <td>30.00</td>\n",
       "      <td>NaN</td>\n",
       "      <td>False</td>\n",
       "      <td>NaN</td>\n",
       "      <td>2620362000000136073</td>\n",
       "      <td>NaN</td>\n",
       "      <td>NaN</td>\n",
       "      <td>False</td>\n",
       "    </tr>\n",
       "  </tbody>\n",
       "</table>\n",
       "<p>5 rows × 33 columns</p>\n",
       "</div>"
      ],
      "text/plain": [
       "  Expense Date                             Expense Description  \\\n",
       "0   2021-01-15                           Exchange Gain or Loss   \n",
       "1   2021-01-14                           Exchange Gain or Loss   \n",
       "2   2021-01-14                            Exchange Gain / Loss   \n",
       "3   2021-07-09      FEE- EBANKING ACH OUTWARD: Tran ID-S237127   \n",
       "4   2021-07-19  FEE RTGS 000001750708 JETSTREAM AFRICA ECOBANK   \n",
       "\n",
       "         Expense Account  Expense Account Code      Paid Through  \\\n",
       "0         Other Expenses             223500005  MTN Mobile Money   \n",
       "1         Other Expenses             223500005  MTN Mobile Money   \n",
       "2         Other Expenses             223500005        Petty Cash   \n",
       "3  Bank Fees and Charges             223200001     Stanbic - GHS   \n",
       "4  Bank Fees and Charges             223200001     Stanbic - GHS   \n",
       "\n",
       "   Paid Through Account Code Vendor       Branch Name  Project Name  \\\n",
       "0                  111000003    NaN  Jetstream Africa           NaN   \n",
       "1                  111000003    NaN  Jetstream Africa           NaN   \n",
       "2                  111000002    NaN  Jetstream Africa           NaN   \n",
       "3                  111000007    NaN  Jetstream Africa           NaN   \n",
       "4                  111000007    NaN  Jetstream Africa           NaN   \n",
       "\n",
       "   Entry Number  ... Tax Amount  Expense Amount   Total      Reference#  \\\n",
       "0             1  ...        0.0           31.75   31.75  TID11003228620   \n",
       "1             2  ...        0.0          631.90  631.90      INV-000317   \n",
       "2             3  ...        0.0            0.02    0.02    Eculine - UK   \n",
       "3            21  ...        0.0            2.50    2.50             NaN   \n",
       "4            22  ...        0.0           30.00   30.00             NaN   \n",
       "\n",
       "   Is Billable  Customer Name  Expense Reference ID  Recurrence Name  \\\n",
       "0        False            NaN   2620362000000088608              NaN   \n",
       "1        False            NaN   2620362000000088688              NaN   \n",
       "2        False            NaN   2620362000000090547              NaN   \n",
       "3        False            NaN   2620362000000135186              NaN   \n",
       "4        False            NaN   2620362000000136073              NaN   \n",
       "\n",
       "  ExpenseReport Name  Is Reimbursable  \n",
       "0                NaN            False  \n",
       "1                NaN            False  \n",
       "2                NaN            False  \n",
       "3                NaN            False  \n",
       "4                NaN            False  \n",
       "\n",
       "[5 rows x 33 columns]"
      ]
     },
     "execution_count": 38,
     "metadata": {},
     "output_type": "execute_result"
    }
   ],
   "source": [
    "df = pd.read_csv(\"expense.csv\")\n",
    "df.head()"
   ]
  },
  {
   "cell_type": "code",
   "execution_count": 39,
   "metadata": {},
   "outputs": [
    {
     "data": {
      "text/plain": [
       "Index(['expense_date', 'expense_description', 'expense_account',\n",
       "       'expense_account_code', 'paid_through', 'paid_through_account_code',\n",
       "       'vendor', 'branch_name', 'project_name', 'entry_number',\n",
       "       'currency_code', 'exchange_rate', 'is_inclusive_tax', 'mileage_rate',\n",
       "       'mileage_unit', 'distance', 'start_odometer_reading',\n",
       "       'end_odometer_reading', 'mileage_type', 'claimant_email', 'tax_name',\n",
       "       'tax_percentage', 'tax_type', 'tax_amount', 'expense_amount', 'total',\n",
       "       'referencenumber', 'is_billable', 'customer_name',\n",
       "       'expense_reference_id', 'recurrence_name', 'expensereport_name',\n",
       "       'is_reimbursable'],\n",
       "      dtype='object')"
      ]
     },
     "execution_count": 39,
     "metadata": {},
     "output_type": "execute_result"
    }
   ],
   "source": [
    "df.columns = [x.lower().replace(\"#\",\"number\").replace(\" \",\"_\").replace(\"%\",\"\").replace(\".\",\"\") for x in df.columns]\n",
    "df.columns"
   ]
  },
  {
   "cell_type": "code",
   "execution_count": 40,
   "metadata": {},
   "outputs": [
    {
     "data": {
      "text/plain": [
       "expense_date                  object\n",
       "expense_description           object\n",
       "expense_account               object\n",
       "expense_account_code           int64\n",
       "paid_through                  object\n",
       "paid_through_account_code      int64\n",
       "vendor                        object\n",
       "branch_name                   object\n",
       "project_name                 float64\n",
       "entry_number                   int64\n",
       "currency_code                 object\n",
       "exchange_rate                float64\n",
       "is_inclusive_tax                bool\n",
       "mileage_rate                 float64\n",
       "mileage_unit                 float64\n",
       "distance                     float64\n",
       "start_odometer_reading       float64\n",
       "end_odometer_reading         float64\n",
       "mileage_type                  object\n",
       "claimant_email               float64\n",
       "tax_name                      object\n",
       "tax_percentage               float64\n",
       "tax_type                      object\n",
       "tax_amount                   float64\n",
       "expense_amount               float64\n",
       "total                        float64\n",
       "referencenumber               object\n",
       "is_billable                     bool\n",
       "customer_name                float64\n",
       "expense_reference_id           int64\n",
       "recurrence_name              float64\n",
       "expensereport_name           float64\n",
       "is_reimbursable                 bool\n",
       "dtype: object"
      ]
     },
     "execution_count": 40,
     "metadata": {},
     "output_type": "execute_result"
    }
   ],
   "source": [
    "df.dtypes"
   ]
  },
  {
   "cell_type": "code",
   "execution_count": 41,
   "metadata": {},
   "outputs": [
    {
     "data": {
      "text/plain": [
       "{'object': 'varchar',\n",
       " 'float64': 'float',\n",
       " 'int64': 'float',\n",
       " 'datetime64[ns]': 'varchar',\n",
       " 'datetime64': 'timestamp',\n",
       " 'bool': 'varchar'}"
      ]
     },
     "execution_count": 41,
     "metadata": {},
     "output_type": "execute_result"
    }
   ],
   "source": [
    "replacements = {\n",
    "    'object' : 'varchar',\n",
    "    'float64' : 'float',\n",
    "    'int64' : 'float',\n",
    "    'datetime64[ns]': 'varchar',\n",
    "    'datetime64': 'timestamp',\n",
    "    'bool' : 'varchar'\n",
    "}\n",
    "replacements"
   ]
  },
  {
   "cell_type": "code",
   "execution_count": 42,
   "metadata": {},
   "outputs": [
    {
     "data": {
      "text/plain": [
       "'expense_date varchar, expense_description varchar, expense_account varchar, expense_account_code float, paid_through varchar, paid_through_account_code float, vendor varchar, branch_name varchar, project_name float, entry_number float, currency_code varchar, exchange_rate float, is_inclusive_tax varchar, mileage_rate float, mileage_unit float, distance float, start_odometer_reading float, end_odometer_reading float, mileage_type varchar, claimant_email float, tax_name varchar, tax_percentage float, tax_type varchar, tax_amount float, expense_amount float, total float, referencenumber varchar, is_billable varchar, customer_name float, expense_reference_id float, recurrence_name float, expensereport_name float, is_reimbursable varchar'"
      ]
     },
     "execution_count": 42,
     "metadata": {},
     "output_type": "execute_result"
    }
   ],
   "source": [
    "col_str = \", \".join(\"{} {}\".format(n, d) for (n, d) in zip(df.columns, df.dtypes.replace(replacements)))\n",
    "col_str"
   ]
  },
  {
   "cell_type": "code",
   "execution_count": 55,
   "metadata": {},
   "outputs": [
    {
     "name": "stdout",
     "output_type": "stream",
     "text": [
      "opened database successfully\n"
     ]
    }
   ],
   "source": [
    "conn_string = \"host= db.app.production.jetstreamafrica.com \\\n",
    "                dbname='jetstream-finance' \\\n",
    "                    user='ujetstreamfinance' password='Smehr5A7FGw4jEX@' \"\n",
    "\n",
    "conn = psycopg2.connect(conn_string)\n",
    "cursor = conn.cursor()\n",
    "\n",
    "print('opened database successfully')"
   ]
  },
  {
   "cell_type": "code",
   "execution_count": 56,
   "metadata": {},
   "outputs": [],
   "source": [
    "cursor.execute(\"drop table if exists expense;\")"
   ]
  },
  {
   "cell_type": "code",
   "execution_count": 57,
   "metadata": {},
   "outputs": [],
   "source": [
    "cursor.execute(\"create table expense \\\n",
    "    (expense_date date, expense_description varchar, expense_account varchar, expense_account_code varchar, paid_through varchar, paid_through_account_code varchar, vendor varchar, branch_name varchar, project_name float, entry_number float, currency_code varchar, exchange_rate float, is_inclusive_tax varchar, mileage_rate float, mileage_unit float, distance float, start_odometer_reading float, end_odometer_reading float, mileage_type varchar, claimant_email float, tax_name varchar, tax_percentage float, tax_type varchar, tax_amount float, expense_amount float, total float, referencenumber varchar, is_billable varchar, customer_name float, expense_reference_id varchar, recurrence_name float, expensereport_name float, is_reimbursable varchar)\")"
   ]
  },
  {
   "cell_type": "code",
   "execution_count": 58,
   "metadata": {},
   "outputs": [
    {
     "name": "stdout",
     "output_type": "stream",
     "text": [
      "file opened in memory\n"
     ]
    }
   ],
   "source": [
    "#insert values to tables\n",
    "#save df to csv\n",
    "df.to_csv('expense', header=df.columns, index=False, encoding='utf-8')\n",
    "#open the csv file, save it as an object and upload to db\n",
    "my_file = open(\"expense\")\n",
    "print('file opened in memory')"
   ]
  },
  {
   "cell_type": "code",
   "execution_count": 59,
   "metadata": {},
   "outputs": [
    {
     "name": "stdout",
     "output_type": "stream",
     "text": [
      "file copied to db\n"
     ]
    }
   ],
   "source": [
    "SQL_STATEMENT = \"\"\"\n",
    "COPY expense FROM STDIN WITH\n",
    "   CSV\n",
    "   HEADER\n",
    "   DELIMITER AS ','\n",
    "\"\"\"\n",
    "cursor.copy_expert(sql = SQL_STATEMENT, file=my_file)\n",
    "print('file copied to db')"
   ]
  },
  {
   "cell_type": "code",
   "execution_count": 60,
   "metadata": {},
   "outputs": [
    {
     "name": "stdout",
     "output_type": "stream",
     "text": [
      "table expense made imported successfully\n"
     ]
    }
   ],
   "source": [
    "cursor.execute(\"grant select on table expense to public\")\n",
    "conn.commit()\n",
    "\n",
    "cursor.close()\n",
    "print('table expense made imported successfully')"
   ]
  },
  {
   "cell_type": "code",
   "execution_count": null,
   "metadata": {},
   "outputs": [],
   "source": []
  }
 ],
 "metadata": {
  "kernelspec": {
   "display_name": "Python 3.10.8 64-bit",
   "language": "python",
   "name": "python3"
  },
  "language_info": {
   "codemirror_mode": {
    "name": "ipython",
    "version": 3
   },
   "file_extension": ".py",
   "mimetype": "text/x-python",
   "name": "python",
   "nbconvert_exporter": "python",
   "pygments_lexer": "ipython3",
   "version": "3.10.8"
  },
  "orig_nbformat": 4,
  "vscode": {
   "interpreter": {
    "hash": "7b76d6c75b1d56db4f5466d4f9891fa92c6d4201cfdc9a93c61b7dc467bac3ab"
   }
  }
 },
 "nbformat": 4,
 "nbformat_minor": 2
}
