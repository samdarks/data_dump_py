{
 "cells": [
  {
   "cell_type": "code",
   "execution_count": 4,
   "metadata": {},
   "outputs": [],
   "source": [
    "import pandas as pd\n",
    "import  os\n",
    "import numpy as np\n",
    "import psycopg2\n",
    "import glob\n",
    "import openpyxl"
   ]
  },
  {
   "cell_type": "code",
   "execution_count": 5,
   "metadata": {},
   "outputs": [
    {
     "data": {
      "text/html": [
       "<div>\n",
       "<style scoped>\n",
       "    .dataframe tbody tr th:only-of-type {\n",
       "        vertical-align: middle;\n",
       "    }\n",
       "\n",
       "    .dataframe tbody tr th {\n",
       "        vertical-align: top;\n",
       "    }\n",
       "\n",
       "    .dataframe thead th {\n",
       "        text-align: right;\n",
       "    }\n",
       "</style>\n",
       "<table border=\"1\" class=\"dataframe\">\n",
       "  <thead>\n",
       "    <tr style=\"text-align: right;\">\n",
       "      <th></th>\n",
       "      <th>Level 6</th>\n",
       "      <th>Level 5</th>\n",
       "      <th>Level 4</th>\n",
       "      <th>Level 3</th>\n",
       "      <th>Level 2</th>\n",
       "      <th>Level 1</th>\n",
       "      <th>Level 0</th>\n",
       "      <th>Code</th>\n",
       "    </tr>\n",
       "  </thead>\n",
       "  <tbody>\n",
       "    <tr>\n",
       "      <th>0</th>\n",
       "      <td>Profit &amp; Loss</td>\n",
       "      <td>Income</td>\n",
       "      <td>Other Income</td>\n",
       "      <td>Other Income</td>\n",
       "      <td>Other Income</td>\n",
       "      <td>Other Income</td>\n",
       "      <td>Other Charges</td>\n",
       "      <td>223500001</td>\n",
       "    </tr>\n",
       "    <tr>\n",
       "      <th>1</th>\n",
       "      <td>Profit &amp; Loss</td>\n",
       "      <td>Expenses</td>\n",
       "      <td>Operating expenses</td>\n",
       "      <td>Travel &amp; Entertainments</td>\n",
       "      <td>Travel &amp; Entertainments</td>\n",
       "      <td>Travel &amp; Entertainments</td>\n",
       "      <td>Lodging</td>\n",
       "      <td>223400001</td>\n",
       "    </tr>\n",
       "    <tr>\n",
       "      <th>2</th>\n",
       "      <td>Balance Sheet</td>\n",
       "      <td>Assets</td>\n",
       "      <td>Current Assets</td>\n",
       "      <td>Cash and equivalent</td>\n",
       "      <td>Cash &amp; Wallets</td>\n",
       "      <td>Cash &amp; Wallets</td>\n",
       "      <td>Undeposited Funds</td>\n",
       "      <td>111000001</td>\n",
       "    </tr>\n",
       "    <tr>\n",
       "      <th>3</th>\n",
       "      <td>Balance Sheet</td>\n",
       "      <td>Assets</td>\n",
       "      <td>Current Assets</td>\n",
       "      <td>Cash and equivalent</td>\n",
       "      <td>Cash &amp; Wallets</td>\n",
       "      <td>Cash &amp; Wallets</td>\n",
       "      <td>Petty Cash</td>\n",
       "      <td>111000002</td>\n",
       "    </tr>\n",
       "    <tr>\n",
       "      <th>4</th>\n",
       "      <td>Balance Sheet</td>\n",
       "      <td>Assets</td>\n",
       "      <td>Current Assets</td>\n",
       "      <td>Cash and equivalent</td>\n",
       "      <td>Cash &amp; Wallets</td>\n",
       "      <td>Cash &amp; Wallets</td>\n",
       "      <td>MTN Mobile Money</td>\n",
       "      <td>111000003</td>\n",
       "    </tr>\n",
       "  </tbody>\n",
       "</table>\n",
       "</div>"
      ],
      "text/plain": [
       "         Level 6   Level 5             Level 4                  Level 3  \\\n",
       "0  Profit & Loss    Income        Other Income             Other Income   \n",
       "1  Profit & Loss  Expenses  Operating expenses  Travel & Entertainments   \n",
       "2  Balance Sheet    Assets      Current Assets      Cash and equivalent   \n",
       "3  Balance Sheet    Assets      Current Assets      Cash and equivalent   \n",
       "4  Balance Sheet    Assets      Current Assets      Cash and equivalent   \n",
       "\n",
       "                   Level 2                  Level 1            Level 0  \\\n",
       "0             Other Income             Other Income      Other Charges   \n",
       "1  Travel & Entertainments  Travel & Entertainments            Lodging   \n",
       "2           Cash & Wallets           Cash & Wallets  Undeposited Funds   \n",
       "3           Cash & Wallets           Cash & Wallets         Petty Cash   \n",
       "4           Cash & Wallets           Cash & Wallets   MTN Mobile Money   \n",
       "\n",
       "        Code  \n",
       "0  223500001  \n",
       "1  223400001  \n",
       "2  111000001  \n",
       "3  111000002  \n",
       "4  111000003  "
      ]
     },
     "execution_count": 5,
     "metadata": {},
     "output_type": "execute_result"
    }
   ],
   "source": [
    "df = pd.read_excel(\"20210727_Chart of accounts.xlsx\", sheet_name= \"Hierarchy\")\n",
    "df.head()"
   ]
  },
  {
   "cell_type": "code",
   "execution_count": 6,
   "metadata": {},
   "outputs": [
    {
     "data": {
      "text/plain": [
       "'hierarchy'"
      ]
     },
     "execution_count": 6,
     "metadata": {},
     "output_type": "execute_result"
    }
   ],
   "source": [
    "file = \"Hierarchy\"\n",
    "clean_tbl_name = file.lower().replace(\" \",\"_\")\n",
    "clean_tbl_name"
   ]
  },
  {
   "cell_type": "code",
   "execution_count": 8,
   "metadata": {},
   "outputs": [
    {
     "data": {
      "text/plain": [
       "Index(['level_6', 'level_5', 'level_4', 'level_3', 'level_2', 'level_1',\n",
       "       'level_0', 'code'],\n",
       "      dtype='object')"
      ]
     },
     "execution_count": 8,
     "metadata": {},
     "output_type": "execute_result"
    }
   ],
   "source": [
    "df.columns = [x.lower().replace(\" \",\"_\") for x in df.columns]\n",
    "df.columns"
   ]
  },
  {
   "cell_type": "code",
   "execution_count": 9,
   "metadata": {},
   "outputs": [
    {
     "data": {
      "text/plain": [
       "level_6    object\n",
       "level_5    object\n",
       "level_4    object\n",
       "level_3    object\n",
       "level_2    object\n",
       "level_1    object\n",
       "level_0    object\n",
       "code        int64\n",
       "dtype: object"
      ]
     },
     "execution_count": 9,
     "metadata": {},
     "output_type": "execute_result"
    }
   ],
   "source": [
    "df.dtypes"
   ]
  },
  {
   "cell_type": "code",
   "execution_count": 10,
   "metadata": {},
   "outputs": [
    {
     "data": {
      "text/plain": [
       "{'object': 'varchar', 'int64': 'varchar'}"
      ]
     },
     "execution_count": 10,
     "metadata": {},
     "output_type": "execute_result"
    }
   ],
   "source": [
    "replacements = {\n",
    "    'object' : 'varchar',\n",
    "    'int64' : 'varchar'\n",
    "}\n",
    "replacements"
   ]
  },
  {
   "cell_type": "code",
   "execution_count": 11,
   "metadata": {},
   "outputs": [
    {
     "data": {
      "text/plain": [
       "'level_6 varchar, level_5 varchar, level_4 varchar, level_3 varchar, level_2 varchar, level_1 varchar, level_0 varchar, code varchar'"
      ]
     },
     "execution_count": 11,
     "metadata": {},
     "output_type": "execute_result"
    }
   ],
   "source": [
    "col_str = \", \".join(\"{} {}\".format(n, d) for (n, d) in zip(df.columns, df.dtypes.replace(replacements)))\n",
    "col_str"
   ]
  },
  {
   "cell_type": "code",
   "execution_count": 13,
   "metadata": {},
   "outputs": [
    {
     "name": "stdout",
     "output_type": "stream",
     "text": [
      "opened database successfully\n"
     ]
    }
   ],
   "source": [
    "#open database connection\n",
    "\n",
    "\n",
    "conn_string = \"host= db.app.production.jetstreamafrica.com \\\n",
    "                dbname='jetstream-finance' \\\n",
    "                    user='ujetstreamfinance' password='Smehr5A7FGw4jEX@' \"\n",
    "\n",
    "conn = psycopg2.connect(conn_string)\n",
    "cursor = conn.cursor()\n",
    "\n",
    "print('opened database successfully')"
   ]
  },
  {
   "cell_type": "code",
   "execution_count": 15,
   "metadata": {},
   "outputs": [],
   "source": [
    "#drop tables with same name\n",
    "cursor.execute(\"drop table if exists Hierarchy;\")"
   ]
  },
  {
   "cell_type": "code",
   "execution_count": 16,
   "metadata": {},
   "outputs": [],
   "source": [
    "#creating tables\n",
    "cursor.execute(\"create table hierarchy \\\n",
    "    (level_6 varchar, level_5 varchar, level_4 varchar, level_3 varchar, level_2 varchar, level_1 varchar, level_0 varchar, code varchar)\" )"
   ]
  },
  {
   "cell_type": "code",
   "execution_count": 17,
   "metadata": {},
   "outputs": [
    {
     "name": "stdout",
     "output_type": "stream",
     "text": [
      "file opened in memory\n"
     ]
    }
   ],
   "source": [
    "#insert values to tables\n",
    "#save df to csv\n",
    "df.to_csv('Hierarchy', header=df.columns, index=False, encoding='utf-8')\n",
    "#open the csv file, save it as an object and upload to db\n",
    "my_file = open(\"Hierarchy\")\n",
    "print('file opened in memory')"
   ]
  },
  {
   "cell_type": "code",
   "execution_count": 18,
   "metadata": {},
   "outputs": [
    {
     "name": "stdout",
     "output_type": "stream",
     "text": [
      "file copied to db\n"
     ]
    }
   ],
   "source": [
    "#upload to db\n",
    "SQL_STATEMENT = \"\"\"\n",
    "COPY Hierarchy FROM STDIN WITH\n",
    "   CSV\n",
    "   HEADER\n",
    "   DELIMITER AS ','\n",
    "\"\"\"\n",
    "cursor.copy_expert(sql = SQL_STATEMENT, file=my_file)\n",
    "print('file copied to db')"
   ]
  },
  {
   "cell_type": "code",
   "execution_count": 19,
   "metadata": {},
   "outputs": [
    {
     "name": "stdout",
     "output_type": "stream",
     "text": [
      "table hierarchy imported successfully\n"
     ]
    }
   ],
   "source": [
    "cursor.execute(\"grant select on table hierarchy to public\")\n",
    "conn.commit()\n",
    "\n",
    "cursor.close()\n",
    "print('table hierarchy imported successfully')"
   ]
  }
 ],
 "metadata": {
  "kernelspec": {
   "display_name": "Python 3.10.8 64-bit",
   "language": "python",
   "name": "python3"
  },
  "language_info": {
   "codemirror_mode": {
    "name": "ipython",
    "version": 3
   },
   "file_extension": ".py",
   "mimetype": "text/x-python",
   "name": "python",
   "nbconvert_exporter": "python",
   "pygments_lexer": "ipython3",
   "version": "3.10.8"
  },
  "orig_nbformat": 4,
  "vscode": {
   "interpreter": {
    "hash": "7b76d6c75b1d56db4f5466d4f9891fa92c6d4201cfdc9a93c61b7dc467bac3ab"
   }
  }
 },
 "nbformat": 4,
 "nbformat_minor": 2
}
