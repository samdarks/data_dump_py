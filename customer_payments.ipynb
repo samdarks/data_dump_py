{
 "cells": [
  {
   "cell_type": "code",
   "execution_count": 35,
   "metadata": {},
   "outputs": [],
   "source": [
    "import pandas as pd\n",
    "import os\n",
    "import numpy as np\n",
    "import openpyxl\n",
    "import psycopg2\n",
    "import glob"
   ]
  },
  {
   "cell_type": "code",
   "execution_count": 36,
   "metadata": {},
   "outputs": [
    {
     "data": {
      "text/html": [
       "<div>\n",
       "<style scoped>\n",
       "    .dataframe tbody tr th:only-of-type {\n",
       "        vertical-align: middle;\n",
       "    }\n",
       "\n",
       "    .dataframe tbody tr th {\n",
       "        vertical-align: top;\n",
       "    }\n",
       "\n",
       "    .dataframe thead th {\n",
       "        text-align: right;\n",
       "    }\n",
       "</style>\n",
       "<table border=\"1\" class=\"dataframe\">\n",
       "  <thead>\n",
       "    <tr style=\"text-align: right;\">\n",
       "      <th></th>\n",
       "      <th>payment_id</th>\n",
       "      <th>payment_number</th>\n",
       "      <th>invoice_number</th>\n",
       "      <th>date</th>\n",
       "      <th>payment_mode</th>\n",
       "      <th>amount</th>\n",
       "      <th>bcy_amount</th>\n",
       "      <th>unused_amount</th>\n",
       "      <th>bcy_unused_amount</th>\n",
       "      <th>bcy_bank_charge</th>\n",
       "      <th>...</th>\n",
       "      <th>last_four_digits</th>\n",
       "      <th>type</th>\n",
       "      <th>bcy_refunded_amount</th>\n",
       "      <th>has_attachment</th>\n",
       "      <th>documents</th>\n",
       "      <th>tax_account_id</th>\n",
       "      <th>tax_account_name</th>\n",
       "      <th>tax_amount_withheld</th>\n",
       "      <th>currency_code</th>\n",
       "      <th>branch_name</th>\n",
       "    </tr>\n",
       "  </thead>\n",
       "  <tbody>\n",
       "    <tr>\n",
       "      <th>0</th>\n",
       "      <td>2620362000003131790</td>\n",
       "      <td>1053</td>\n",
       "      <td>INV-JSA000430</td>\n",
       "      <td>2022-11-15</td>\n",
       "      <td>Bank Transfer</td>\n",
       "      <td>0</td>\n",
       "      <td>11519.77</td>\n",
       "      <td>0</td>\n",
       "      <td>0.0</td>\n",
       "      <td>0.0</td>\n",
       "      <td>...</td>\n",
       "      <td>NaN</td>\n",
       "      <td>renewal</td>\n",
       "      <td>0</td>\n",
       "      <td>False</td>\n",
       "      <td>NaN</td>\n",
       "      <td>NaN</td>\n",
       "      <td>NaN</td>\n",
       "      <td>0.0</td>\n",
       "      <td>USD</td>\n",
       "      <td>Jetstream Africa</td>\n",
       "    </tr>\n",
       "    <tr>\n",
       "      <th>1</th>\n",
       "      <td>2620362000003131908</td>\n",
       "      <td>1056</td>\n",
       "      <td>INV-JSA000875</td>\n",
       "      <td>2022-11-15</td>\n",
       "      <td>Bank Transfer</td>\n",
       "      <td>0</td>\n",
       "      <td>8903.74</td>\n",
       "      <td>0</td>\n",
       "      <td>0.0</td>\n",
       "      <td>0.0</td>\n",
       "      <td>...</td>\n",
       "      <td>NaN</td>\n",
       "      <td>renewal</td>\n",
       "      <td>0</td>\n",
       "      <td>False</td>\n",
       "      <td>NaN</td>\n",
       "      <td>NaN</td>\n",
       "      <td>NaN</td>\n",
       "      <td>0.0</td>\n",
       "      <td>USD</td>\n",
       "      <td>Jetstream Africa</td>\n",
       "    </tr>\n",
       "    <tr>\n",
       "      <th>2</th>\n",
       "      <td>2620362000003146013</td>\n",
       "      <td>1060</td>\n",
       "      <td>INV-JSA000778</td>\n",
       "      <td>2022-11-15</td>\n",
       "      <td>Bank Transfer</td>\n",
       "      <td>0</td>\n",
       "      <td>10000.00</td>\n",
       "      <td>0</td>\n",
       "      <td>0.0</td>\n",
       "      <td>0.0</td>\n",
       "      <td>...</td>\n",
       "      <td>NaN</td>\n",
       "      <td>renewal</td>\n",
       "      <td>0</td>\n",
       "      <td>False</td>\n",
       "      <td>NaN</td>\n",
       "      <td>NaN</td>\n",
       "      <td>NaN</td>\n",
       "      <td>0.0</td>\n",
       "      <td>GHS</td>\n",
       "      <td>Jetstream Africa</td>\n",
       "    </tr>\n",
       "    <tr>\n",
       "      <th>3</th>\n",
       "      <td>2620362000003131832</td>\n",
       "      <td>1054</td>\n",
       "      <td>INV-JSA000875</td>\n",
       "      <td>2022-11-14</td>\n",
       "      <td>Bank Transfer</td>\n",
       "      <td>0</td>\n",
       "      <td>13998.01</td>\n",
       "      <td>0</td>\n",
       "      <td>0.0</td>\n",
       "      <td>0.0</td>\n",
       "      <td>...</td>\n",
       "      <td>NaN</td>\n",
       "      <td>renewal</td>\n",
       "      <td>0</td>\n",
       "      <td>False</td>\n",
       "      <td>NaN</td>\n",
       "      <td>NaN</td>\n",
       "      <td>NaN</td>\n",
       "      <td>0.0</td>\n",
       "      <td>USD</td>\n",
       "      <td>Jetstream Africa</td>\n",
       "    </tr>\n",
       "    <tr>\n",
       "      <th>4</th>\n",
       "      <td>2620362000003131870</td>\n",
       "      <td>1055</td>\n",
       "      <td>INV-JSA000875</td>\n",
       "      <td>2022-11-14</td>\n",
       "      <td>MoMo Transfer</td>\n",
       "      <td>0</td>\n",
       "      <td>1500.03</td>\n",
       "      <td>0</td>\n",
       "      <td>0.0</td>\n",
       "      <td>0.0</td>\n",
       "      <td>...</td>\n",
       "      <td>NaN</td>\n",
       "      <td>renewal</td>\n",
       "      <td>0</td>\n",
       "      <td>False</td>\n",
       "      <td>NaN</td>\n",
       "      <td>NaN</td>\n",
       "      <td>NaN</td>\n",
       "      <td>0.0</td>\n",
       "      <td>USD</td>\n",
       "      <td>Jetstream Africa</td>\n",
       "    </tr>\n",
       "  </tbody>\n",
       "</table>\n",
       "<p>5 rows × 26 columns</p>\n",
       "</div>"
      ],
      "text/plain": [
       "            payment_id  payment_number invoice_number        date  \\\n",
       "0  2620362000003131790            1053  INV-JSA000430  2022-11-15   \n",
       "1  2620362000003131908            1056  INV-JSA000875  2022-11-15   \n",
       "2  2620362000003146013            1060  INV-JSA000778  2022-11-15   \n",
       "3  2620362000003131832            1054  INV-JSA000875  2022-11-14   \n",
       "4  2620362000003131870            1055  INV-JSA000875  2022-11-14   \n",
       "\n",
       "    payment_mode  amount  bcy_amount  unused_amount  bcy_unused_amount  \\\n",
       "0  Bank Transfer       0    11519.77              0                0.0   \n",
       "1  Bank Transfer       0     8903.74              0                0.0   \n",
       "2  Bank Transfer       0    10000.00              0                0.0   \n",
       "3  Bank Transfer       0    13998.01              0                0.0   \n",
       "4  MoMo Transfer       0     1500.03              0                0.0   \n",
       "\n",
       "   bcy_bank_charge  ...  last_four_digits     type bcy_refunded_amount  \\\n",
       "0              0.0  ...               NaN  renewal                   0   \n",
       "1              0.0  ...               NaN  renewal                   0   \n",
       "2              0.0  ...               NaN  renewal                   0   \n",
       "3              0.0  ...               NaN  renewal                   0   \n",
       "4              0.0  ...               NaN  renewal                   0   \n",
       "\n",
       "  has_attachment  documents tax_account_id  tax_account_name  \\\n",
       "0          False        NaN            NaN               NaN   \n",
       "1          False        NaN            NaN               NaN   \n",
       "2          False        NaN            NaN               NaN   \n",
       "3          False        NaN            NaN               NaN   \n",
       "4          False        NaN            NaN               NaN   \n",
       "\n",
       "  tax_amount_withheld  currency_code       branch_name  \n",
       "0                 0.0            USD  Jetstream Africa  \n",
       "1                 0.0            USD  Jetstream Africa  \n",
       "2                 0.0            GHS  Jetstream Africa  \n",
       "3                 0.0            USD  Jetstream Africa  \n",
       "4                 0.0            USD  Jetstream Africa  \n",
       "\n",
       "[5 rows x 26 columns]"
      ]
     },
     "execution_count": 36,
     "metadata": {},
     "output_type": "execute_result"
    }
   ],
   "source": [
    "df = pd.read_excel(\"customer_payments.xlsx\")\n",
    "df.head()"
   ]
  },
  {
   "cell_type": "code",
   "execution_count": 37,
   "metadata": {},
   "outputs": [
    {
     "data": {
      "text/plain": [
       "Index(['payment_id', 'payment_number', 'invoice_number', 'date',\n",
       "       'payment_mode', 'amount', 'bcy_amount', 'unused_amount',\n",
       "       'bcy_unused_amount', 'bcy_bank_charge', 'account_id', 'account_name',\n",
       "       'description', 'reference_number', 'customer_id', 'customer_name',\n",
       "       'last_four_digits', 'type', 'bcy_refunded_amount', 'has_attachment',\n",
       "       'documents', 'tax_account_id', 'tax_account_name',\n",
       "       'tax_amount_withheld', 'currency_code', 'branch_name'],\n",
       "      dtype='object')"
      ]
     },
     "execution_count": 37,
     "metadata": {},
     "output_type": "execute_result"
    }
   ],
   "source": [
    "df.columns = [x.lower().replace(\" \",\"_\").replace(\"%\",\"\")for x in df.columns]\n",
    "df.columns"
   ]
  },
  {
   "cell_type": "code",
   "execution_count": 38,
   "metadata": {},
   "outputs": [
    {
     "data": {
      "text/plain": [
       "payment_id               int64\n",
       "payment_number           int64\n",
       "invoice_number          object\n",
       "date                    object\n",
       "payment_mode            object\n",
       "amount                   int64\n",
       "bcy_amount             float64\n",
       "unused_amount            int64\n",
       "bcy_unused_amount      float64\n",
       "bcy_bank_charge        float64\n",
       "account_id               int64\n",
       "account_name            object\n",
       "description             object\n",
       "reference_number        object\n",
       "customer_id              int64\n",
       "customer_name           object\n",
       "last_four_digits       float64\n",
       "type                    object\n",
       "bcy_refunded_amount      int64\n",
       "has_attachment            bool\n",
       "documents              float64\n",
       "tax_account_id         float64\n",
       "tax_account_name        object\n",
       "tax_amount_withheld    float64\n",
       "currency_code           object\n",
       "branch_name             object\n",
       "dtype: object"
      ]
     },
     "execution_count": 38,
     "metadata": {},
     "output_type": "execute_result"
    }
   ],
   "source": [
    "df.dtypes"
   ]
  },
  {
   "cell_type": "code",
   "execution_count": 39,
   "metadata": {},
   "outputs": [
    {
     "data": {
      "text/plain": [
       "{'object': 'varchar',\n",
       " 'float64': 'float',\n",
       " 'int64': 'varchar',\n",
       " 'datetime64[ns]': 'varchar',\n",
       " 'datetime64': 'timestamp',\n",
       " 'bool': 'varchar'}"
      ]
     },
     "execution_count": 39,
     "metadata": {},
     "output_type": "execute_result"
    }
   ],
   "source": [
    "replacements = {\n",
    "    'object' : 'varchar',\n",
    "    'float64' : 'float',\n",
    "    'int64' : 'varchar',\n",
    "    'datetime64[ns]': 'varchar',\n",
    "    'datetime64': 'timestamp',\n",
    "    'bool' : 'varchar'\n",
    "}\n",
    "replacements"
   ]
  },
  {
   "cell_type": "code",
   "execution_count": 40,
   "metadata": {},
   "outputs": [
    {
     "data": {
      "text/plain": [
       "'payment_id varchar, payment_number varchar, invoice_number varchar, date varchar, payment_mode varchar, amount varchar, bcy_amount float, unused_amount varchar, bcy_unused_amount float, bcy_bank_charge float, account_id varchar, account_name varchar, description varchar, reference_number varchar, customer_id varchar, customer_name varchar, last_four_digits float, type varchar, bcy_refunded_amount varchar, has_attachment varchar, documents float, tax_account_id float, tax_account_name varchar, tax_amount_withheld float, currency_code varchar, branch_name varchar'"
      ]
     },
     "execution_count": 40,
     "metadata": {},
     "output_type": "execute_result"
    }
   ],
   "source": [
    "col_str = \", \".join(\"{} {}\".format(n, d) for (n, d) in zip(df.columns, df.dtypes.replace(replacements)))\n",
    "col_str"
   ]
  },
  {
   "cell_type": "code",
   "execution_count": 41,
   "metadata": {},
   "outputs": [
    {
     "name": "stdout",
     "output_type": "stream",
     "text": [
      "opened database successfully\n"
     ]
    }
   ],
   "source": [
    "conn_string = \"host= db.app.production.jetstreamafrica.com \\\n",
    "                dbname='jetstream-finance' \\\n",
    "                    user='ujetstreamfinance' password='Smehr5A7FGw4jEX@' \"\n",
    "\n",
    "conn = psycopg2.connect(conn_string)\n",
    "cursor = conn.cursor()\n",
    "\n",
    "print('opened database successfully')"
   ]
  },
  {
   "cell_type": "code",
   "execution_count": 42,
   "metadata": {},
   "outputs": [],
   "source": [
    "cursor.execute(\"drop table if exists customer_payments;\")"
   ]
  },
  {
   "cell_type": "code",
   "execution_count": 43,
   "metadata": {},
   "outputs": [],
   "source": [
    "cursor.execute(\"create table customer_payments \\\n",
    "    (payment_id varchar, payment_number varchar, invoice_number varchar, date varchar, payment_mode varchar, amount varchar, bcy_amount float, unused_amount varchar, bcy_unused_amount float, bcy_bank_charge float, account_id varchar, account_name varchar, description varchar, reference_number varchar, customer_id varchar, customer_name varchar, last_four_digits float, type varchar, bcy_refunded_amount varchar, has_attachment varchar, documents float, tax_account_id varchar, tax_account_name varchar, tax_amount_withheld float, currency_code varchar, branch_name varchar)\")"
   ]
  },
  {
   "cell_type": "code",
   "execution_count": 44,
   "metadata": {},
   "outputs": [
    {
     "name": "stdout",
     "output_type": "stream",
     "text": [
      "file opened in memory\n"
     ]
    }
   ],
   "source": [
    "#insert values to tables\n",
    "#save df to csv\n",
    "df.to_csv('customer_payments', header=df.columns, index=False, encoding='utf-8')\n",
    "#open the csv file, save it as an object and upload to db\n",
    "my_file = open(\"customer_payments\")\n",
    "print('file opened in memory')"
   ]
  },
  {
   "cell_type": "code",
   "execution_count": 45,
   "metadata": {},
   "outputs": [
    {
     "name": "stdout",
     "output_type": "stream",
     "text": [
      "file copied to db\n"
     ]
    }
   ],
   "source": [
    "SQL_STATEMENT = \"\"\"\n",
    "COPY customer_payments FROM STDIN WITH\n",
    "   CSV\n",
    "   HEADER\n",
    "   DELIMITER AS ','\n",
    "\"\"\"\n",
    "cursor.copy_expert(sql = SQL_STATEMENT, file=my_file)\n",
    "print('file copied to db')"
   ]
  },
  {
   "cell_type": "code",
   "execution_count": 46,
   "metadata": {},
   "outputs": [
    {
     "name": "stdout",
     "output_type": "stream",
     "text": [
      "table customer_payments imported successfully\n"
     ]
    }
   ],
   "source": [
    "cursor.execute(\"grant select on table customer_payments to public\")\n",
    "conn.commit()\n",
    "\n",
    "cursor.close()\n",
    "print('table customer_payments imported successfully')"
   ]
  },
  {
   "cell_type": "code",
   "execution_count": null,
   "metadata": {},
   "outputs": [],
   "source": []
  }
 ],
 "metadata": {
  "kernelspec": {
   "display_name": "Python 3.10.8 64-bit",
   "language": "python",
   "name": "python3"
  },
  "language_info": {
   "codemirror_mode": {
    "name": "ipython",
    "version": 3
   },
   "file_extension": ".py",
   "mimetype": "text/x-python",
   "name": "python",
   "nbconvert_exporter": "python",
   "pygments_lexer": "ipython3",
   "version": "3.10.8"
  },
  "orig_nbformat": 4,
  "vscode": {
   "interpreter": {
    "hash": "7b76d6c75b1d56db4f5466d4f9891fa92c6d4201cfdc9a93c61b7dc467bac3ab"
   }
  }
 },
 "nbformat": 4,
 "nbformat_minor": 2
}
